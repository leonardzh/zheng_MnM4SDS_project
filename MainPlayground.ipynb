{
 "cells": [
  {
   "cell_type": "markdown",
   "metadata": {},
   "source": [
    "# Main playground for exploration of NN SI model\n",
    "\n",
    "**Author: Zheng Liu**"
   ]
  },
  {
   "cell_type": "markdown",
   "metadata": {},
   "source": [
    "## Introduction\n",
    "\n",
    "We are interested in how neural network can help to predict real spatial interaction data.\n",
    "This notebook aims to provide step-by-step experiments to compare parametric statistic models (OLS/GLM) and non-parametric statistic models (Neural Networks).\n",
    "\n",
    "In the first part, we prepare data from simulationin order to validate and examine model and real world SI data which will be used at the end in different models especially NN SI models to evaluate performances.\n",
    "\n",
    "Next part will compare results using OLS/GLM/NN with the dataset you pick. Before getting NN results, implementation of my simple neural network is explicitly given."
   ]
  },
  {
   "cell_type": "code",
   "execution_count": 8,
   "metadata": {},
   "outputs": [],
   "source": [
    "import numpy as np\n",
    "from sklearn.model_selection import train_test_split\n",
    "import statsmodels.formula.api as smf # high-level stats\n",
    "import statsmodels.api as sm\n",
    "import matplotlib.pyplot as plt\n",
    "import scipy\n",
    "import seaborn as sns\n",
    "import pandas as pd\n",
    "%matplotlib inline"
   ]
  },
  {
   "cell_type": "markdown",
   "metadata": {},
   "source": [
    "## Data preparation\n",
    "\n",
    "Following datasets can be loaded by calling functions below:\n",
    "\n",
    "1. Linear simulation: to test my simple neural net can work perfectly\n",
    "2. Linear simulation with multivariates: to test my simple neural net can work perfectly\n",
    "3. Multiplicative simulation: to simulate SI model data with known parameters\n",
    "4. Real world Austria migration: A toy dataset with 72 entries used in Taylor (2016) and Fischer (2001)\n",
    "5. Real world NYC taxi snippet: Larger dataset with tract-level interactions (1000 entries)"
   ]
  },
  {
   "cell_type": "markdown",
   "metadata": {},
   "source": [
    "### 1. Linear simulation"
   ]
  },
  {
   "cell_type": "code",
   "execution_count": 9,
   "metadata": {},
   "outputs": [],
   "source": [
    "#make toy dataset with error\n",
    "def loadDatasetLinear(row=1000,error = 0.1):\n",
    "    b0 = 1\n",
    "    b1 = 2\n",
    "    X = np.random.rand(row,1)\n",
    "    Xe = error*np.random.rand(row,1)\n",
    "    Y = b0 +b1*X + Xe\n",
    "    return (X,Y)"
   ]
  },
  {
   "cell_type": "markdown",
   "metadata": {},
   "source": [
    "### 2.Linear simulation with multivariates:"
   ]
  },
  {
   "cell_type": "code",
   "execution_count": 10,
   "metadata": {},
   "outputs": [],
   "source": [
    "\n",
    "def loadDatasetVarLn(row=1000,error = 0.1):\n",
    "    b0 = 1\n",
    "    b1 = np.array([[1],[1],[1]])\n",
    "    X = np.random.rand(row,3)\n",
    "    Xe = error*np.random.rand(row,1)\n",
    "    Y = b0 +np.dot(X,b1) + Xe\n",
    "    return (X,Y)"
   ]
  },
  {
   "cell_type": "code",
   "execution_count": null,
   "metadata": {},
   "outputs": [],
   "source": []
  },
  {
   "cell_type": "markdown",
   "metadata": {},
   "source": [
    "### 3. Multiplicative simulation"
   ]
  },
  {
   "cell_type": "code",
   "execution_count": 57,
   "metadata": {},
   "outputs": [],
   "source": [
    "#make non-linear dataset\n",
    "def loadDatasetNonlnMp(row=1000,error=0.001):\n",
    "    b0 = 1\n",
    "\n",
    "    Oi = np.random.rand(row,1)\n",
    "    Dj = np.random.rand(row,1)\n",
    "    dij = np.random.rand(row,1)+1.0001\n",
    "    X = np.hstack((Oi,Dj,dij))\n",
    "    Xe = error*np.random.rand(row,1)\n",
    "    Y = b0*Oi*Dj/dij + Xe\n",
    "    return (X,Y)"
   ]
  },
  {
   "cell_type": "code",
   "execution_count": 63,
   "metadata": {},
   "outputs": [],
   "source": [
    "#make non-linear dataset\n",
    "def loadDatasetLogMp(row=1000,error=0.001):\n",
    "    b0 = 1\n",
    "    b1 = 1\n",
    "    b2 = 1\n",
    "    b3 = -1\n",
    "    Oi = np.random.rand(row,1)\n",
    "    Dj = np.random.rand(row,1)\n",
    "    dij = np.random.rand(row,1)+1.0001\n",
    "    X = np.hstack((Oi,Dj,dij))\n",
    "\n",
    "    Xe = error*np.random.rand(row,1)\n",
    "    Y = np.exp(b0+ b1*np.log(Oi) + b2*np.log(Dj) + b3*np.log(dij) + Xe)\n",
    "    return (X,Y)"
   ]
  },
  {
   "cell_type": "markdown",
   "metadata": {},
   "source": [
    "### 4. Real world Austria migration"
   ]
  },
  {
   "cell_type": "code",
   "execution_count": 28,
   "metadata": {},
   "outputs": [],
   "source": [
    "def loadDatasetAustria():\n",
    "    X = np.load('data/austria_in.npy')\n",
    "    Y = np.load('data/austria_out.npy')\n",
    "    return (X,Y)"
   ]
  },
  {
   "cell_type": "markdown",
   "metadata": {},
   "source": [
    "### 5. Real world NYC taxi snippet"
   ]
  },
  {
   "cell_type": "code",
   "execution_count": 30,
   "metadata": {},
   "outputs": [],
   "source": [
    "def loadDatasetTaxiSnippet():\n",
    "    X = np.load('data/simple_taxi_X.npy')\n",
    "    Y = np.load('data/simple_taxi_Y.npy')\n",
    "    return (X,Y)"
   ]
  },
  {
   "cell_type": "markdown",
   "metadata": {},
   "source": [
    "### Load dataset of your choice"
   ]
  },
  {
   "cell_type": "code",
   "execution_count": 116,
   "metadata": {},
   "outputs": [],
   "source": [
    "dataopt = '3.2'\n",
    "if(dataopt == '1'):\n",
    "    X,Y = loadDatasetLinear()\n",
    "elif(dataopt == '2'):\n",
    "    X,Y = loadDatasetVarLn()\n",
    "elif(dataopt == '3.1'):\n",
    "    X,Y = loadDatasetNonlnMp()\n",
    "elif(dataopt == '3.2'):\n",
    "    X,Y = loadDatasetLogMp()\n",
    "elif(dataopt == '4'):\n",
    "    X,Y = loadDatasetAustria()\n",
    "elif(dataopt == '5'):\n",
    "    X,Y = loadDatasetTaxiSnippet()\n",
    "X_train, X_test, y_train, y_test = train_test_split(X, Y, test_size=0.2, random_state=42)\n"
   ]
  },
  {
   "cell_type": "markdown",
   "metadata": {},
   "source": [
    "## Compare results\n",
    "Following functions of OLSregression/GLMregression/NNregression will give a **scatterplot, MSE, pearson's R**, of known test data y values vs predicted y values using known X values"
   ]
  },
  {
   "cell_type": "markdown",
   "metadata": {},
   "source": [
    "### Ordinary Least Square\n",
    "using package **statsmodels**"
   ]
  },
  {
   "cell_type": "code",
   "execution_count": 123,
   "metadata": {},
   "outputs": [],
   "source": [
    "def OLSregression(X_train,y_train,X_test,y_test):\n",
    "    X_train_log = sm.add_constant(np.log(X_train))\n",
    "    X_test_log = sm.add_constant(np.log(X_test))\n",
    "    y_train_log = np.log(y_train)\n",
    "\n",
    "    model = sm.OLS(y_train_log,X_train_log)\n",
    "    results = model.fit()\n",
    "    print(results.summary())\n",
    "    y_pred = np.exp(results.predict(X_test_log))\n",
    "    pear = scipy.stats.pearsonr(y_test[:,0], y_pred)\n",
    "    print('Pearson\\'s r is {:6f}'.format(pear[0]))\n",
    "    mse = np.mean((y_test[:,0] - y_pred)**2)\n",
    "    print('MSE is {:6f}'.format(mse))\n",
    "\n",
    "    df = pd.DataFrame({'X_Axis': X_test[:, 1], 'y_test': y_test[:,0], 'y_pred':y_pred})\n",
    "    df_m = df.melt('X_Axis', var_name='cols',  value_name='vals')\n",
    "    plt.figure(figsize=(16, 10))\n",
    "    sns.scatterplot(x=\"y_test\", y=\"y_pred\", data=df)\n",
    "    return df\n",
    "    "
   ]
  },
  {
   "cell_type": "code",
   "execution_count": 124,
   "metadata": {},
   "outputs": [
    {
     "name": "stdout",
     "output_type": "stream",
     "text": [
      "                            OLS Regression Results                            \n",
      "==============================================================================\n",
      "Dep. Variable:                      y   R-squared:                       1.000\n",
      "Model:                            OLS   Adj. R-squared:                  1.000\n",
      "Method:                 Least Squares   F-statistic:                 7.248e+09\n",
      "Date:                Thu, 05 Dec 2019   Prob (F-statistic):               0.00\n",
      "Time:                        15:30:11   Log-Likelihood:                 5391.0\n",
      "No. Observations:                 800   AIC:                        -1.077e+04\n",
      "Df Residuals:                     796   BIC:                        -1.076e+04\n",
      "Df Model:                           3                                         \n",
      "Covariance Type:            nonrobust                                         \n",
      "==============================================================================\n",
      "                 coef    std err          t      P>|t|      [0.025      0.975]\n",
      "------------------------------------------------------------------------------\n",
      "const          1.0005   2.62e-05   3.81e+04      0.000       1.000       1.001\n",
      "x1             1.0000   1.06e-05   9.47e+04      0.000       1.000       1.000\n",
      "x2             1.0000   9.43e-06   1.06e+05      0.000       1.000       1.000\n",
      "x3            -1.0000    5.2e-05  -1.92e+04      0.000      -1.000      -1.000\n",
      "==============================================================================\n",
      "Omnibus:                      556.032   Durbin-Watson:                   2.047\n",
      "Prob(Omnibus):                  0.000   Jarque-Bera (JB):               48.540\n",
      "Skew:                           0.073   Prob(JB):                     2.88e-11\n",
      "Kurtosis:                       1.802   Cond. No.                         11.0\n",
      "==============================================================================\n",
      "\n",
      "Warnings:\n",
      "[1] Standard Errors assume that the covariance matrix of the errors is correctly specified.\n",
      "Pearson's r is 1.000000\n",
      "MSE is 0.000000\n"
     ]
    },
    {
     "data": {
      "text/html": [
       "<div>\n",
       "<style scoped>\n",
       "    .dataframe tbody tr th:only-of-type {\n",
       "        vertical-align: middle;\n",
       "    }\n",
       "\n",
       "    .dataframe tbody tr th {\n",
       "        vertical-align: top;\n",
       "    }\n",
       "\n",
       "    .dataframe thead th {\n",
       "        text-align: right;\n",
       "    }\n",
       "</style>\n",
       "<table border=\"1\" class=\"dataframe\">\n",
       "  <thead>\n",
       "    <tr style=\"text-align: right;\">\n",
       "      <th></th>\n",
       "      <th>X_Axis</th>\n",
       "      <th>y_test</th>\n",
       "      <th>y_pred</th>\n",
       "    </tr>\n",
       "  </thead>\n",
       "  <tbody>\n",
       "    <tr>\n",
       "      <th>0</th>\n",
       "      <td>0.625219</td>\n",
       "      <td>1.245895</td>\n",
       "      <td>1.245609</td>\n",
       "    </tr>\n",
       "    <tr>\n",
       "      <th>1</th>\n",
       "      <td>0.215687</td>\n",
       "      <td>0.416983</td>\n",
       "      <td>0.416823</td>\n",
       "    </tr>\n",
       "    <tr>\n",
       "      <th>2</th>\n",
       "      <td>0.109207</td>\n",
       "      <td>0.137527</td>\n",
       "      <td>0.137495</td>\n",
       "    </tr>\n",
       "    <tr>\n",
       "      <th>3</th>\n",
       "      <td>0.396241</td>\n",
       "      <td>0.119236</td>\n",
       "      <td>0.119247</td>\n",
       "    </tr>\n",
       "    <tr>\n",
       "      <th>4</th>\n",
       "      <td>0.672011</td>\n",
       "      <td>0.617118</td>\n",
       "      <td>0.616917</td>\n",
       "    </tr>\n",
       "    <tr>\n",
       "      <th>...</th>\n",
       "      <td>...</td>\n",
       "      <td>...</td>\n",
       "      <td>...</td>\n",
       "    </tr>\n",
       "    <tr>\n",
       "      <th>195</th>\n",
       "      <td>0.686022</td>\n",
       "      <td>1.006208</td>\n",
       "      <td>1.006681</td>\n",
       "    </tr>\n",
       "    <tr>\n",
       "      <th>196</th>\n",
       "      <td>0.084394</td>\n",
       "      <td>0.159282</td>\n",
       "      <td>0.159278</td>\n",
       "    </tr>\n",
       "    <tr>\n",
       "      <th>197</th>\n",
       "      <td>0.631868</td>\n",
       "      <td>0.363924</td>\n",
       "      <td>0.364035</td>\n",
       "    </tr>\n",
       "    <tr>\n",
       "      <th>198</th>\n",
       "      <td>0.718345</td>\n",
       "      <td>0.004085</td>\n",
       "      <td>0.004083</td>\n",
       "    </tr>\n",
       "    <tr>\n",
       "      <th>199</th>\n",
       "      <td>0.230567</td>\n",
       "      <td>0.382351</td>\n",
       "      <td>0.382369</td>\n",
       "    </tr>\n",
       "  </tbody>\n",
       "</table>\n",
       "<p>200 rows × 3 columns</p>\n",
       "</div>"
      ],
      "text/plain": [
       "       X_Axis    y_test    y_pred\n",
       "0    0.625219  1.245895  1.245609\n",
       "1    0.215687  0.416983  0.416823\n",
       "2    0.109207  0.137527  0.137495\n",
       "3    0.396241  0.119236  0.119247\n",
       "4    0.672011  0.617118  0.616917\n",
       "..        ...       ...       ...\n",
       "195  0.686022  1.006208  1.006681\n",
       "196  0.084394  0.159282  0.159278\n",
       "197  0.631868  0.363924  0.364035\n",
       "198  0.718345  0.004085  0.004083\n",
       "199  0.230567  0.382351  0.382369\n",
       "\n",
       "[200 rows x 3 columns]"
      ]
     },
     "execution_count": 124,
     "metadata": {},
     "output_type": "execute_result"
    },
    {
     "data": {
      "image/png": "[encoded data removed]",
      "text/plain": [
       "<Figure size 1152x720 with 1 Axes>"
      ]
     },
     "metadata": {
      "needs_background": "light"
     },
     "output_type": "display_data"
    }
   ],
   "source": [
    "OLSregression(X_train,y_train,X_test,y_test)"
   ]
  },
  {
   "cell_type": "markdown",
   "metadata": {},
   "source": [
    "### Generalized Linear Models\n",
    "using package **statsmodels**, current support family of *Poisson*."
   ]
  },
  {
   "cell_type": "code",
   "execution_count": 125,
   "metadata": {},
   "outputs": [],
   "source": [
    "def GLMregression(X_train,y_train,X_test,y_test,family='Poisson'):\n",
    "    if family == 'Poisson':\n",
    "        X_train = sm.add_constant(np.log(X_train))\n",
    "        X_test = sm.add_constant(np.log(X_test))\n",
    "        model = sm.GLM(y_train, X_train, family=sm.families.Poisson())\n",
    "        results = model.fit()\n",
    "        print(results.summary())\n",
    "\n",
    "        y_pred = results.predict(X_test,transform=False)\n",
    "        pear = scipy.stats.pearsonr(y_test[:,0], y_pred)\n",
    "        print('Pearson\\'s r is {:6f}'.format(pear[0]))\n",
    "        \n",
    "        mse = np.mean((y_test[:,0] - y_pred)**2)\n",
    "        print('MSE is {:6f}'.format(mse))\n",
    "        \n",
    "        \n",
    "        df = pd.DataFrame({'X_Axis': X_test[:, 1], 'y_test': y_test[:,0], 'y_pred':y_pred})\n",
    "\n",
    "        df_m = df.melt('X_Axis', var_name='cols',  value_name='vals')\n",
    "        plt.figure(figsize=(16, 10))\n",
    "        sns.scatterplot(x=\"y_test\", y=\"y_pred\", data=df)\n",
    "        return df\n",
    "    elif family == 'Gaussian':\n",
    "        X_train = sm.add_constant(np.log(X_train))\n",
    "        X_test = sm.add_constant(np.log(X_test))\n",
    "        model = sm.GLM(y_train, X_train, family=sm.families.Gaussian())\n",
    "        results = model.fit()\n",
    "        print(results.summary())\n",
    "\n",
    "        y_pred = results.predict(X_test,transform=False)\n",
    "        pear = scipy.stats.pearsonr(y_test[:,0], y_pred)\n",
    "        print('Pearson\\'s r is {:6f}'.format(pear[0]))\n",
    "        \n",
    "        mse = np.mean((y_test[:,0] - y_pred)**2)\n",
    "        print('MSE is {:6f}'.format(mse))\n",
    "        \n",
    "        \n",
    "        df = pd.DataFrame({'X_Axis': X_test[:, 1], 'y_test': y_test[:,0], 'y_pred':y_pred})\n",
    "\n",
    "        df_m = df.melt('X_Axis', var_name='cols',  value_name='vals')\n",
    "        plt.figure(figsize=(16, 10))\n",
    "        sns.scatterplot(x=\"y_test\", y=\"y_pred\", data=df)\n",
    "        return df\n",
    "    else:\n",
    "        return -1"
   ]
  },
  {
   "cell_type": "code",
   "execution_count": 126,
   "metadata": {},
   "outputs": [
    {
     "name": "stdout",
     "output_type": "stream",
     "text": [
      "                 Generalized Linear Model Regression Results                  \n",
      "==============================================================================\n",
      "Dep. Variable:                      y   No. Observations:                  800\n",
      "Model:                            GLM   Df Residuals:                      796\n",
      "Model Family:                 Poisson   Df Model:                            3\n",
      "Link Function:                    log   Scale:                          1.0000\n",
      "Method:                          IRLS   Log-Likelihood:                -475.89\n",
      "Date:                Thu, 05 Dec 2019   Deviance:                   3.2337e-05\n",
      "Time:                        15:31:07   Pearson chi2:                 3.23e-05\n",
      "No. Iterations:                     6                                         \n",
      "Covariance Type:            nonrobust                                         \n",
      "==============================================================================\n",
      "                 coef    std err          z      P>|z|      [0.025      0.975]\n",
      "------------------------------------------------------------------------------\n",
      "const          1.0005      0.124      8.087      0.000       0.758       1.243\n",
      "x1             1.0000      0.104      9.594      0.000       0.796       1.204\n",
      "x2             1.0000      0.102      9.780      0.000       0.800       1.200\n",
      "x3            -1.0000      0.255     -3.916      0.000      -1.501      -0.499\n",
      "==============================================================================\n",
      "Pearson's r is 1.000000\n",
      "MSE is 0.000000\n"
     ]
    },
    {
     "data": {
      "text/html": [
       "<div>\n",
       "<style scoped>\n",
       "    .dataframe tbody tr th:only-of-type {\n",
       "        vertical-align: middle;\n",
       "    }\n",
       "\n",
       "    .dataframe tbody tr th {\n",
       "        vertical-align: top;\n",
       "    }\n",
       "\n",
       "    .dataframe thead th {\n",
       "        text-align: right;\n",
       "    }\n",
       "</style>\n",
       "<table border=\"1\" class=\"dataframe\">\n",
       "  <thead>\n",
       "    <tr style=\"text-align: right;\">\n",
       "      <th></th>\n",
       "      <th>X_Axis</th>\n",
       "      <th>y_test</th>\n",
       "      <th>y_pred</th>\n",
       "    </tr>\n",
       "  </thead>\n",
       "  <tbody>\n",
       "    <tr>\n",
       "      <th>0</th>\n",
       "      <td>-0.171028</td>\n",
       "      <td>1.245895</td>\n",
       "      <td>1.245618</td>\n",
       "    </tr>\n",
       "    <tr>\n",
       "      <th>1</th>\n",
       "      <td>-0.109883</td>\n",
       "      <td>0.416983</td>\n",
       "      <td>0.416828</td>\n",
       "    </tr>\n",
       "    <tr>\n",
       "      <th>2</th>\n",
       "      <td>-0.410705</td>\n",
       "      <td>0.137527</td>\n",
       "      <td>0.137497</td>\n",
       "    </tr>\n",
       "    <tr>\n",
       "      <th>3</th>\n",
       "      <td>-1.613522</td>\n",
       "      <td>0.119236</td>\n",
       "      <td>0.119247</td>\n",
       "    </tr>\n",
       "    <tr>\n",
       "      <th>4</th>\n",
       "      <td>-0.827315</td>\n",
       "      <td>0.617118</td>\n",
       "      <td>0.616919</td>\n",
       "    </tr>\n",
       "    <tr>\n",
       "      <th>...</th>\n",
       "      <td>...</td>\n",
       "      <td>...</td>\n",
       "      <td>...</td>\n",
       "    </tr>\n",
       "    <tr>\n",
       "      <th>195</th>\n",
       "      <td>-0.522487</td>\n",
       "      <td>1.006208</td>\n",
       "      <td>1.006690</td>\n",
       "    </tr>\n",
       "    <tr>\n",
       "      <th>196</th>\n",
       "      <td>-0.238410</td>\n",
       "      <td>0.159282</td>\n",
       "      <td>0.159282</td>\n",
       "    </tr>\n",
       "    <tr>\n",
       "      <th>197</th>\n",
       "      <td>-1.439748</td>\n",
       "      <td>0.363924</td>\n",
       "      <td>0.364039</td>\n",
       "    </tr>\n",
       "    <tr>\n",
       "      <th>198</th>\n",
       "      <td>-5.818655</td>\n",
       "      <td>0.004085</td>\n",
       "      <td>0.004083</td>\n",
       "    </tr>\n",
       "    <tr>\n",
       "      <th>199</th>\n",
       "      <td>-0.052452</td>\n",
       "      <td>0.382351</td>\n",
       "      <td>0.382370</td>\n",
       "    </tr>\n",
       "  </tbody>\n",
       "</table>\n",
       "<p>200 rows × 3 columns</p>\n",
       "</div>"
      ],
      "text/plain": [
       "       X_Axis    y_test    y_pred\n",
       "0   -0.171028  1.245895  1.245618\n",
       "1   -0.109883  0.416983  0.416828\n",
       "2   -0.410705  0.137527  0.137497\n",
       "3   -1.613522  0.119236  0.119247\n",
       "4   -0.827315  0.617118  0.616919\n",
       "..        ...       ...       ...\n",
       "195 -0.522487  1.006208  1.006690\n",
       "196 -0.238410  0.159282  0.159282\n",
       "197 -1.439748  0.363924  0.364039\n",
       "198 -5.818655  0.004085  0.004083\n",
       "199 -0.052452  0.382351  0.382370\n",
       "\n",
       "[200 rows x 3 columns]"
      ]
     },
     "execution_count": 126,
     "metadata": {},
     "output_type": "execute_result"
    },
    {
     "data": {
      "image/png": "[encoded data removed]",
      "text/plain": [
       "<Figure size 1152x720 with 1 Axes>"
      ]
     },
     "metadata": {
      "needs_background": "light"
     },
     "output_type": "display_data"
    }
   ],
   "source": [
    "GLMregression(X_train,y_train,X_test,y_test,family='Poisson')"
   ]
  },
  {
   "cell_type": "markdown",
   "metadata": {},
   "source": [
    "### simple Neural Network models\n",
    "Multi-layer preceptron (MLP) with one hidden layer. Below shows available activation functions including **sigmoid, tanh, ReLU, affine**. "
   ]
  },
  {
   "cell_type": "code",
   "execution_count": 99,
   "metadata": {},
   "outputs": [],
   "source": [
    "#activation functions and their gradient functions\n",
    "def sigmoid(X):\n",
    "    return 1/(1+np.exp(-X))\n",
    "\n",
    "def sigmoid_grad(X):\n",
    "    return sigmoid(X) * (1 - sigmoid(X))\n",
    "\n",
    "def tanh(z):\n",
    "    return np.tanh(z)\n",
    "\n",
    "def tanh_grad(z):\n",
    "     return 1 - np.tanh(z) ** 2\n",
    "\n",
    "def ReLU(z):\n",
    "    return np.clip(z, 0, np.inf)\n",
    "\n",
    "def ReLU_grad(z):\n",
    "    return (z > 0).astype(int)\n",
    "\n",
    "def affine(X,slope=1,intercept=0):\n",
    "     return slope * X + intercept\n",
    "    \n",
    "def affine_grad(X,slope=1,intercept=0):\n",
    "    return slope * np.ones_like(X)"
   ]
  },
  {
   "cell_type": "markdown",
   "metadata": {},
   "source": [
    "#### define neural network model\n",
    "\n",
    "Construct neural network by using numpy only so that user is able to monitor the changing of weights during training. "
   ]
  },
  {
   "cell_type": "code",
   "execution_count": 100,
   "metadata": {},
   "outputs": [],
   "source": [
    "\n",
    "class NeuralNetwork:\n",
    "    def __init__(self, input_dim, output_dim=1,hidden_dim = 4,lr=0.005,\n",
    "                 act1 = sigmoid,\n",
    "                 act2 = affine,\n",
    "                 grad1 = sigmoid_grad,\n",
    "                 grad2 = affine_grad):\n",
    "        #init weights\n",
    "        self.weights1   = np.random.rand(input_dim+1,hidden_dim) \n",
    "        self.weights2   = np.random.rand(hidden_dim,output_dim)                 \n",
    "        #set learning rate\n",
    "        self.lr         = lr\n",
    "        self.activation1 = act1\n",
    "        self.activation2 = act2\n",
    "        self.grad1 = grad1\n",
    "        self.grad2 = grad2\n",
    "      \n",
    "    def print_w(self):\n",
    "        '''print weight to inspect the current values of network'''  \n",
    "        print('print_weights ------------>')\n",
    "        print(self.weights1)\n",
    "        print(self.weights2)\n",
    "        \n",
    "    def feedforward(self,X):\n",
    "        X = np.hstack((X,np.ones((X.shape[0],1))))\n",
    "        self.layer1 = self.activation1(np.dot(X, self.weights1))\n",
    "        self.output = self.activation2(np.dot(self.layer1, self.weights2))\n",
    "        return self.output\n",
    "    def backprop(self,X, Y):\n",
    "        X = np.hstack((X,np.ones((X.shape[0],1))))\n",
    "        # application of the chain rule to find derivative of the loss function with respect to weights2 and weights1\n",
    "        d_weights2 = np.dot(self.layer1.T, (2*(Y - self.output) * affine_grad(np.dot(self.layer1, self.weights2))))\n",
    "        d_weights1 = np.dot(X.T,  \\\n",
    "                            (np.dot(2*(Y - self.output) * self.grad2(np.dot(self.layer1, self.weights2)), self.weights2.T)\\\n",
    "                             * self.grad1(np.dot(X, self.weights1))))\n",
    "\n",
    "        # update the weights with the derivative (slope) of the loss function multiply learning rate\n",
    "        self.weights1 += d_weights1*self.lr\n",
    "        self.weights2 += d_weights2*self.lr\n",
    "    \n",
    "    def test(self,X):\n",
    "        '''get predicted values for any input data'''\n",
    "        X = np.hstack((X,np.ones((X.shape[0],1))))\n",
    "        hidden_layer1 = self.activation1(np.dot(X, self.weights1))\n",
    "        return self.activation2(np.dot(hidden_layer1, self.weights2))\n",
    "        \n",
    "    def train(self,X,Y,epoch):\n",
    "        '''train model with X and Y for num_train_iterations times'''\n",
    "        #print('training  ---------------->')\n",
    "        for iteration in range(epoch): \n",
    "            self.feedforward(X) \n",
    "            self.backprop(X,Y)\n",
    "            #print interim MSE\n",
    "#             if iteration % 100 == 0:\n",
    "#                 mse = np.mean((self.output - Y)**2)\n",
    "#                 print(\"Epoch \", iteration, \"MSE: \", mse)\n",
    "                "
   ]
  },
  {
   "cell_type": "markdown",
   "metadata": {},
   "source": [
    "#### Training and testing NN model\n",
    "\n",
    "Extra options can be **Batch size, epoch**"
   ]
  },
  {
   "cell_type": "code",
   "execution_count": 128,
   "metadata": {},
   "outputs": [],
   "source": [
    "def NNregression(X_train, X_test, y_train, y_test,\n",
    "                 batch_size = 4,\n",
    "                 epoch = 500\n",
    "                ):\n",
    "\n",
    "    #initialize network with fixed output dim of 1\n",
    "    neural_network = NeuralNetwork(X_train.shape[1],1,lr=1e-3)\n",
    "\n",
    "    for index in range(0,X_train.shape[0],batch_size):\n",
    "\n",
    "        #get batch X and Y\n",
    "        batch_X=X_train[index:min(index+batch_size,X_train.shape[0]),:]\n",
    "        batch_Y=y_train[index:min(index+batch_size,y_train.shape[0])]\n",
    "\n",
    "        #train model with batch\n",
    "        neural_network.train(batch_X,batch_Y,epoch)\n",
    "    y_pred = neural_network.feedforward(X_test)[:,0]\n",
    "    pear = scipy.stats.pearsonr(y_test[:,0], y_pred)\n",
    "\n",
    "    print('Pearson\\'s r is {:6f}'.format(pear[0]))\n",
    "\n",
    "    mse = np.mean((y_test[:,0] - y_pred)**2)\n",
    "    print('MSE is {:6f}'.format(mse))\n",
    "\n",
    "\n",
    "    df = pd.DataFrame({'X_Axis': X_test[:, 0], 'y_test': y_test[:,0], 'y_pred':y_pred})\n",
    "\n",
    "    df_m = df.melt('X_Axis', var_name='cols',  value_name='vals')\n",
    "    plt.figure(figsize=(16, 10))\n",
    "    sns.scatterplot(x=\"y_test\", y=\"y_pred\", data=df)\n",
    "    return df"
   ]
  },
  {
   "cell_type": "code",
   "execution_count": 129,
   "metadata": {},
   "outputs": [
    {
     "name": "stdout",
     "output_type": "stream",
     "text": [
      "Pearson's r is 0.968615\n",
      "MSE is 0.014810\n"
     ]
    },
    {
     "data": {
      "text/html": [
       "<div>\n",
       "<style scoped>\n",
       "    .dataframe tbody tr th:only-of-type {\n",
       "        vertical-align: middle;\n",
       "    }\n",
       "\n",
       "    .dataframe tbody tr th {\n",
       "        vertical-align: top;\n",
       "    }\n",
       "\n",
       "    .dataframe thead th {\n",
       "        text-align: right;\n",
       "    }\n",
       "</style>\n",
       "<table border=\"1\" class=\"dataframe\">\n",
       "  <thead>\n",
       "    <tr style=\"text-align: right;\">\n",
       "      <th></th>\n",
       "      <th>X_Axis</th>\n",
       "      <th>y_test</th>\n",
       "      <th>y_pred</th>\n",
       "    </tr>\n",
       "  </thead>\n",
       "  <tbody>\n",
       "    <tr>\n",
       "      <th>0</th>\n",
       "      <td>0.842798</td>\n",
       "      <td>1.245895</td>\n",
       "      <td>1.107576</td>\n",
       "    </tr>\n",
       "    <tr>\n",
       "      <th>1</th>\n",
       "      <td>0.895939</td>\n",
       "      <td>0.416983</td>\n",
       "      <td>0.564511</td>\n",
       "    </tr>\n",
       "    <tr>\n",
       "      <th>2</th>\n",
       "      <td>0.663183</td>\n",
       "      <td>0.137527</td>\n",
       "      <td>0.180936</td>\n",
       "    </tr>\n",
       "    <tr>\n",
       "      <th>3</th>\n",
       "      <td>0.199185</td>\n",
       "      <td>0.119236</td>\n",
       "      <td>0.003020</td>\n",
       "    </tr>\n",
       "    <tr>\n",
       "      <th>4</th>\n",
       "      <td>0.437221</td>\n",
       "      <td>0.617118</td>\n",
       "      <td>0.485970</td>\n",
       "    </tr>\n",
       "    <tr>\n",
       "      <th>...</th>\n",
       "      <td>...</td>\n",
       "      <td>...</td>\n",
       "      <td>...</td>\n",
       "    </tr>\n",
       "    <tr>\n",
       "      <th>195</th>\n",
       "      <td>0.593044</td>\n",
       "      <td>1.006208</td>\n",
       "      <td>0.830282</td>\n",
       "    </tr>\n",
       "    <tr>\n",
       "      <th>196</th>\n",
       "      <td>0.787880</td>\n",
       "      <td>0.159282</td>\n",
       "      <td>0.375502</td>\n",
       "    </tr>\n",
       "    <tr>\n",
       "      <th>197</th>\n",
       "      <td>0.236987</td>\n",
       "      <td>0.363924</td>\n",
       "      <td>0.325319</td>\n",
       "    </tr>\n",
       "    <tr>\n",
       "      <th>198</th>\n",
       "      <td>0.002972</td>\n",
       "      <td>0.004085</td>\n",
       "      <td>0.114798</td>\n",
       "    </tr>\n",
       "    <tr>\n",
       "      <th>199</th>\n",
       "      <td>0.948900</td>\n",
       "      <td>0.382351</td>\n",
       "      <td>0.484734</td>\n",
       "    </tr>\n",
       "  </tbody>\n",
       "</table>\n",
       "<p>200 rows × 3 columns</p>\n",
       "</div>"
      ],
      "text/plain": [
       "       X_Axis    y_test    y_pred\n",
       "0    0.842798  1.245895  1.107576\n",
       "1    0.895939  0.416983  0.564511\n",
       "2    0.663183  0.137527  0.180936\n",
       "3    0.199185  0.119236  0.003020\n",
       "4    0.437221  0.617118  0.485970\n",
       "..        ...       ...       ...\n",
       "195  0.593044  1.006208  0.830282\n",
       "196  0.787880  0.159282  0.375502\n",
       "197  0.236987  0.363924  0.325319\n",
       "198  0.002972  0.004085  0.114798\n",
       "199  0.948900  0.382351  0.484734\n",
       "\n",
       "[200 rows x 3 columns]"
      ]
     },
     "execution_count": 129,
     "metadata": {},
     "output_type": "execute_result"
    },
    {
     "data": {
      "image/png": "[encoded data removed]",
      "text/plain": [
       "<Figure size 1152x720 with 1 Axes>"
      ]
     },
     "metadata": {
      "needs_background": "light"
     },
     "output_type": "display_data"
    }
   ],
   "source": [
    "NNregression(X_train, X_test, y_train, y_test)"
   ]
  },
  {
   "cell_type": "code",
   "execution_count": 35,
   "metadata": {},
   "outputs": [],
   "source": [
    "#legacy code\n",
    "#prototyping code\n",
    "\n",
    "# batch_size = 4\n",
    "\n",
    "# #initialize network with fixed output dim of 1\n",
    "# neural_network = NeuralNetwork(X_train.shape[1],1,lr=1e-3)\n",
    "\n",
    "# for index in range(0,X_train.shape[0],batch_size):\n",
    "    \n",
    "    \n",
    "#     #get batch X and Y\n",
    "#     batch_X=X_train[index:min(index+batch_size,X_train.shape[0]),:]\n",
    "#     batch_Y=y_train[index:min(index+batch_size,y_train.shape[0])]\n",
    "    \n",
    "#     #train model with batch\n",
    "#     neural_network.train(batch_X,batch_Y,500)\n",
    "    \n",
    "#     #print final state of weights\n",
    "#     neural_network.print_w()\n",
    "\n",
    "#     # Test the neural network with new test data. \n",
    "#     #get predicted y\n",
    "#     y_pred = neural_network.test(X_test)\n",
    "#     #compare predicted y and groundtruth \n",
    "# #     print('predicted data ----------->')\n",
    "# #     print(y_pred)\n",
    "# #     print('real data ---------------->')\n",
    "# #     print(y_test)\n",
    "#     #calculate MSE\n",
    "#     mse = np.mean((y_test - y_pred)**2)\n",
    "#     print('MSE on test data --------->')\n",
    "#     print(mse)"
   ]
  },
  {
   "cell_type": "code",
   "execution_count": null,
   "metadata": {},
   "outputs": [],
   "source": [
    "# a book grokking deep learning pdf\n",
    "# integer\n",
    "# const log\n",
    "# probability matrix by divide sum\n"
   ]
  }
 ],
 "metadata": {
  "kernelspec": {
   "display_name": "Python 3",
   "language": "python",
   "name": "python3"
  },
  "language_info": {
   "codemirror_mode": {
    "name": "ipython",
    "version": 3
   },
   "file_extension": ".py",
   "mimetype": "text/x-python",
   "name": "python",
   "nbconvert_exporter": "python",
   "pygments_lexer": "ipython3",
   "version": "3.7.5"
  }
 },
 "nbformat": 4,
 "nbformat_minor": 4
}
