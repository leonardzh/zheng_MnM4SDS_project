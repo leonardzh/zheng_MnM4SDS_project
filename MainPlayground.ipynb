{
 "cells": [
  {
   "cell_type": "markdown",
   "metadata": {},
   "source": [
    "# Main playground for exploration of NN SI model\n",
    "\n",
    "**Author: Zheng Liu**"
   ]
  },
  {
   "cell_type": "markdown",
   "metadata": {},
   "source": [
    "## Introduction\n",
    "\n",
    "We are interested in how neural network can help to predict real spatial interaction data.\n",
    "This notebook aims to provide step-by-step experiments to compare parametric statistic models (OLS/GLM) and non-parametric statistic models (Neural Networks).\n",
    "\n",
    "In the first part, we prepare data from simulationin order to validate and examine model and real world SI data which will be used at the end in different models especially NN SI models to evaluate performances.\n",
    "\n",
    "Next part will compare results using OLS/GLM/NN with the dataset you pick. Before getting NN results, implementation of my simple neural network is explicitly given."
   ]
  },
  {
   "cell_type": "code",
   "execution_count": 8,
   "metadata": {},
   "outputs": [],
   "source": [
    "import numpy as np\n",
    "from sklearn.model_selection import train_test_split\n",
    "import statsmodels.formula.api as smf # high-level stats\n",
    "import statsmodels.api as sm\n",
    "import matplotlib.pyplot as plt\n",
    "import scipy\n",
    "import seaborn as sns\n",
    "import pandas as pd\n",
    "%matplotlib inline"
   ]
  },
  {
   "cell_type": "markdown",
   "metadata": {},
   "source": [
    "## Data preparation\n",
    "\n",
    "Following datasets can be loaded by calling functions below:\n",
    "\n",
    "1. Linear simulation: to test my simple neural net can work perfectly\n",
    "2. Linear simulation with multivariates: to test my simple neural net can work perfectly\n",
    "3. Multiplicative simulation: to simulate SI model data with known parameters\n",
    "4. Real world Austria migration: A toy dataset with 72 entries used in Taylor (2016) and Fischer (2001)\n",
    "5. Real world NYC taxi snippet: Larger dataset with tract-level interactions (1000 entries)"
   ]
  },
  {
   "cell_type": "markdown",
   "metadata": {},
   "source": [
    "### 1. Linear simulation"
   ]
  },
  {
   "cell_type": "code",
   "execution_count": 9,
   "metadata": {},
   "outputs": [],
   "source": [
    "#make toy dataset with error\n",
    "def loadDatasetLinear(row=1000,error = 0.1):\n",
    "    b0 = 1\n",
    "    b1 = 2\n",
    "    X = np.random.rand(row,1)\n",
    "    Xe = error*np.random.rand(row,1)\n",
    "    Y = b0 +b1*X + Xe\n",
    "    return (X,Y)"
   ]
  },
  {
   "cell_type": "markdown",
   "metadata": {},
   "source": [
    "### 2.Linear simulation with multivariates:"
   ]
  },
  {
   "cell_type": "code",
   "execution_count": 10,
   "metadata": {},
   "outputs": [],
   "source": [
    "#make advanced dataset\n",
    "def loadDatasetVarLn(row=1000,error = 0.1):\n",
    "    b0 = 1\n",
    "    b1 = np.array([[1],[1],[1]])\n",
    "    X = np.random.rand(row,3)\n",
    "    Xe = error*np.random.rand(row,1)\n",
    "    Y = b0 +np.dot(X,b1) + Xe\n",
    "    return (X,Y)"
   ]
  },
  {
   "cell_type": "markdown",
   "metadata": {},
   "source": [
    "### 3. Multiplicative simulation"
   ]
  },
  {
   "cell_type": "code",
   "execution_count": 11,
   "metadata": {},
   "outputs": [],
   "source": [
    "#make non-linear dataset\n",
    "def loadDatasetNonlnMp(row=1000,error=0.001):\n",
    "    b0 = 1\n",
    "    b1 = 2\n",
    "    X1 = np.random.rand(row,1)\n",
    "    X2 = np.random.rand(row,1)\n",
    "    X = np.hstack((X1,X2))\n",
    "    Xe = error*np.random.rand(row,1)\n",
    "    Y = b0 +b1*X1*X2 + Xe\n",
    "    return (X,Y)"
   ]
  },
  {
   "cell_type": "markdown",
   "metadata": {},
   "source": [
    "### 4. Real world Austria migration"
   ]
  },
  {
   "cell_type": "code",
   "execution_count": 28,
   "metadata": {},
   "outputs": [],
   "source": [
    "def loadDatasetAustria():\n",
    "    X = np.load('data/austria_in.npy')\n",
    "    Y = np.load('data/austria_out.npy')\n",
    "    return (X,Y)"
   ]
  },
  {
   "cell_type": "markdown",
   "metadata": {},
   "source": [
    "### 5. Real world NYC taxi snippet"
   ]
  },
  {
   "cell_type": "code",
   "execution_count": 30,
   "metadata": {},
   "outputs": [],
   "source": [
    "def loadDatasetTaxiSnippet():\n",
    "    X = np.load('data/simple_taxi_X.npy')\n",
    "    Y = np.load('data/simple_taxi_Y.npy')\n",
    "    return (X,Y)"
   ]
  },
  {
   "cell_type": "markdown",
   "metadata": {},
   "source": [
    "### Load dataset of your choice"
   ]
  },
  {
   "cell_type": "code",
   "execution_count": 32,
   "metadata": {},
   "outputs": [],
   "source": [
    "X,Y = loadDatasetTaxiSnippet()\n",
    "X_train, X_test, y_train, y_test = train_test_split(X, Y, test_size=0.2, random_state=42)\n"
   ]
  },
  {
   "cell_type": "markdown",
   "metadata": {},
   "source": [
    "## Compare results\n",
    "Following functions of OLSregression/GLMregression/NNregression will give a **scatterplot, MSE, pearson's R**, of known test data y values vs predicted y values using known X values"
   ]
  },
  {
   "cell_type": "markdown",
   "metadata": {},
   "source": [
    "### Ordinary Least Square\n",
    "using package **statsmodels**"
   ]
  },
  {
   "cell_type": "code",
   "execution_count": 19,
   "metadata": {},
   "outputs": [],
   "source": [
    "def OLSregression(X_train,y_train,X_test,y_test):\n",
    "    X_train = sm.add_constant(X_train)\n",
    "    X_test = sm.add_constant(X_test)\n",
    "    model = sm.OLS(y_train,X_train)\n",
    "    results = model.fit()\n",
    "    print(results.summary())\n",
    "    y_pred = results.fittedvalues\n",
    "    pear = scipy.stats.pearsonr(y_train[:,0], y_pred)\n",
    "    print('Pearson\\'s r is {:6f}'.format(pear[0]))\n",
    "    mse = np.mean((y_train[:,0] - y_pred)**2)\n",
    "    print('MSE is {:6f}'.format(mse))\n",
    "    print('MSE is {:6f}'.format(results.mse_resid))\n",
    "    df = pd.DataFrame({'X_Axis': X_train[:, 1], 'y_train': y_train[:,0], 'y_pred':y_pred})\n",
    "    df = df.melt('X_Axis', var_name='cols',  value_name='vals')\n",
    "    plt.figure(figsize=(16, 10))\n",
    "    sns.scatterplot(x=\"X_Axis\", y=\"vals\", hue='cols', data=df)\n",
    "    \n",
    "    "
   ]
  },
  {
   "cell_type": "code",
   "execution_count": 20,
   "metadata": {},
   "outputs": [
    {
     "name": "stdout",
     "output_type": "stream",
     "text": [
      "                            OLS Regression Results                            \n",
      "==============================================================================\n",
      "Dep. Variable:                      y   R-squared:                       0.368\n",
      "Model:                            OLS   Adj. R-squared:                  0.333\n",
      "Method:                 Least Squares   F-statistic:                     10.30\n",
      "Date:                Tue, 03 Dec 2019   Prob (F-statistic):           1.90e-05\n",
      "Time:                        17:30:19   Log-Likelihood:                -516.98\n",
      "No. Observations:                  57   AIC:                             1042.\n",
      "Df Residuals:                      53   BIC:                             1050.\n",
      "Df Model:                           3                                         \n",
      "Covariance Type:            nonrobust                                         \n",
      "==============================================================================\n",
      "                 coef    std err          t      P>|t|      [0.025      0.975]\n",
      "------------------------------------------------------------------------------\n",
      "const         82.7156    814.843      0.102      0.920   -1551.653    1717.084\n",
      "x1             0.1232      0.034      3.627      0.001       0.055       0.191\n",
      "x2             0.1161      0.033      3.489      0.001       0.049       0.183\n",
      "x3            -5.7067      2.295     -2.486      0.016     -10.310      -1.103\n",
      "==============================================================================\n",
      "Omnibus:                       95.793   Durbin-Watson:                   1.961\n",
      "Prob(Omnibus):                  0.000   Jarque-Bera (JB):             2272.364\n",
      "Skew:                           4.826   Prob(JB):                         0.00\n",
      "Kurtosis:                      32.388   Cond. No.                     4.52e+04\n",
      "==============================================================================\n",
      "\n",
      "Warnings:\n",
      "[1] Standard Errors assume that the covariance matrix of the errors is correctly specified.\n",
      "[2] The condition number is large, 4.52e+04. This might indicate that there are\n",
      "strong multicollinearity or other numerical problems.\n",
      "Pearson's r is 0.606935\n",
      "MSE is 4419768.654326\n",
      "MSE is 4753336.099935\n"
     ]
    },
    {
     "data": {
      "image/png": "[encoded data removed]",
      "text/plain": [
       "<Figure size 1152x720 with 1 Axes>"
      ]
     },
     "metadata": {
      "needs_background": "light"
     },
     "output_type": "display_data"
    }
   ],
   "source": [
    "OLSregression(X_train,y_train,X_test,y_test)"
   ]
  },
  {
   "cell_type": "markdown",
   "metadata": {},
   "source": [
    "### Generalized Linear Models\n",
    "using package **statsmodels**, current support family of *Poisson*."
   ]
  },
  {
   "cell_type": "code",
   "execution_count": 21,
   "metadata": {},
   "outputs": [],
   "source": [
    "def GLMregression(X_train,y_train,X_test,y_test,family='Poisson'):\n",
    "    if family == 'Poisson':\n",
    "        X_train = sm.add_constant(X_train)\n",
    "        model = sm.GLM(y_train, X_train, family=sm.families.Poisson())\n",
    "        results = model.fit()\n",
    "        print(results.summary())\n",
    "        y_pred = results.mu\n",
    "        pear = scipy.stats.pearsonr(y_train[:,0], y_pred)\n",
    "        print('Pearson\\'s r is {:6f}'.format(pear[0]))\n",
    "        \n",
    "        mse = np.mean((y_train[:,0] - y_pred)**2)\n",
    "        print('MSE is {:6f}'.format(mse))\n",
    "        \n",
    "        \n",
    "        df = pd.DataFrame({'X_Axis': X_train[:, 1], 'y_train': y_train[:,0], 'y_pred':y_pred})\n",
    "        df = df.melt('X_Axis', var_name='cols',  value_name='vals')\n",
    "        plt.figure(figsize=(16, 10))\n",
    "        sns.scatterplot(x=\"X_Axis\", y=\"vals\", hue='cols', data=df)\n",
    "        return 1\n",
    "    else:\n",
    "        return -1"
   ]
  },
  {
   "cell_type": "code",
   "execution_count": 22,
   "metadata": {},
   "outputs": [
    {
     "name": "stdout",
     "output_type": "stream",
     "text": [
      "                 Generalized Linear Model Regression Results                  \n",
      "==============================================================================\n",
      "Dep. Variable:                      y   No. Observations:                   57\n",
      "Model:                            GLM   Df Residuals:                       53\n",
      "Model Family:                 Poisson   Df Model:                            3\n",
      "Link Function:                    log   Scale:                          1.0000\n",
      "Method:                          IRLS   Log-Likelihood:                -6706.5\n",
      "Date:                Tue, 03 Dec 2019   Deviance:                       12957.\n",
      "Time:                        17:30:22   Pearson chi2:                 1.32e+04\n",
      "No. Iterations:                     6                                         \n",
      "Covariance Type:            nonrobust                                         \n",
      "==============================================================================\n",
      "                 coef    std err          z      P>|z|      [0.025      0.975]\n",
      "------------------------------------------------------------------------------\n",
      "const          6.3445      0.016    409.217      0.000       6.314       6.375\n",
      "x1          6.543e-05   4.07e-07    160.757      0.000    6.46e-05    6.62e-05\n",
      "x2          6.925e-05    4.2e-07    164.763      0.000    6.84e-05    7.01e-05\n",
      "x3            -0.0060   5.14e-05   -117.348      0.000      -0.006      -0.006\n",
      "==============================================================================\n",
      "Pearson's r is 0.976555\n",
      "MSE is 396794.983264\n"
     ]
    },
    {
     "data": {
      "text/plain": [
       "1"
      ]
     },
     "execution_count": 22,
     "metadata": {},
     "output_type": "execute_result"
    },
    {
     "data": {
      "image/png": "[encoded data removed]",
      "text/plain": [
       "<Figure size 1152x720 with 1 Axes>"
      ]
     },
     "metadata": {
      "needs_background": "light"
     },
     "output_type": "display_data"
    }
   ],
   "source": [
    "GLMregression(X_train,y_train,X_test,y_test)"
   ]
  },
  {
   "cell_type": "markdown",
   "metadata": {},
   "source": [
    "### simple Neural Network models\n",
    "Multi-layer preceptron (MLP) with one hidden layer. Below shows available activation functions including **sigmoid, tanh, ReLU, affine**. "
   ]
  },
  {
   "cell_type": "code",
   "execution_count": 24,
   "metadata": {},
   "outputs": [],
   "source": [
    "#activation functions and their gradient functions\n",
    "def sigmoid(X):\n",
    "    return 1/(1+np.exp(-X))\n",
    "\n",
    "def sigmoid_grad(X):\n",
    "    return sigmoid(X) * (1 - sigmoid(X))\n",
    "\n",
    "def tanh(z):\n",
    "    return np.tanh(z)\n",
    "\n",
    "def tanh_grad(z):\n",
    "     return 1 - np.tanh(z) ** 2\n",
    "\n",
    "def ReLU(z):\n",
    "    return np.clip(z, 0, np.inf)\n",
    "\n",
    "def ReLU_grad(z):\n",
    "    return (z > 0).astype(int)\n",
    "\n",
    "def affine(X,slope=1,intercept=0):\n",
    "     return slope * X + intercept\n",
    "    \n",
    "def affine_grad(X,slope=1,intercept=0):\n",
    "    return slope * np.ones_like(X)"
   ]
  },
  {
   "cell_type": "markdown",
   "metadata": {},
   "source": [
    "#### define neural network model"
   ]
  },
  {
   "cell_type": "code",
   "execution_count": 25,
   "metadata": {},
   "outputs": [],
   "source": [
    "\n",
    "class NeuralNetwork:\n",
    "    def __init__(self, input_dim, output_dim=1,hidden_dim = 4,lr=0.005):\n",
    "        #init weights\n",
    "        self.weights1   = np.random.rand(input_dim+1,hidden_dim) \n",
    "        self.weights2   = np.random.rand(hidden_dim,output_dim)                 \n",
    "        #set learning rate\n",
    "        self.lr         = lr\n",
    "      \n",
    "    def print_w(self):\n",
    "        '''print weight to inspect the current values of network'''  \n",
    "        print('print_weights ------------>')\n",
    "        print(self.weights1)\n",
    "        print(self.weights2)\n",
    "        \n",
    "    def feedforward(self,X):\n",
    "        X = np.hstack((X,np.ones((X.shape[0],1))))\n",
    "        self.layer1 = affine(np.dot(X, self.weights1))\n",
    "        self.output = affine(np.dot(self.layer1, self.weights2))\n",
    "        return self.output\n",
    "    def backprop(self,X, Y):\n",
    "        X = np.hstack((X,np.ones((X.shape[0],1))))\n",
    "        # application of the chain rule to find derivative of the loss function with respect to weights2 and weights1\n",
    "        d_weights2 = np.dot(self.layer1.T, (2*(Y - self.output) * affine_grad(np.dot(self.layer1, self.weights2))))\n",
    "        d_weights1 = np.dot(X.T,  \\\n",
    "                            (np.dot(2*(Y - self.output) * affine_grad(np.dot(self.layer1, self.weights2)), self.weights2.T)\\\n",
    "                             * affine_grad(np.dot(X, self.weights1))))\n",
    "\n",
    "        # update the weights with the derivative (slope) of the loss function multiply learning rate\n",
    "        self.weights1 += d_weights1*self.lr\n",
    "        self.weights2 += d_weights2*self.lr\n",
    "    \n",
    "    def test(self,X):\n",
    "        '''get predicted values for any input data'''\n",
    "        X = np.hstack((X,np.ones((X.shape[0],1))))\n",
    "        hidden_layer1 = affine(np.dot(X, self.weights1))\n",
    "        return affine(np.dot(hidden_layer1, self.weights2))\n",
    "        \n",
    "    def train(self,X,Y,num_train_iterations):\n",
    "        '''train model with X and Y for num_train_iterations times'''\n",
    "        #print('training  ---------------->')\n",
    "        for iteration in range(num_train_iterations): \n",
    "            self.feedforward(X) \n",
    "            self.backprop(X,Y)\n",
    "            #print interim MSE\n",
    "#             if iteration % 100 == 0:\n",
    "#                 mse = np.mean((self.output - Y)**2)\n",
    "#                 print(\"Epoch \", iteration, \"MSE: \", mse)\n",
    "                "
   ]
  },
  {
   "cell_type": "markdown",
   "metadata": {},
   "source": [
    "#### Training and testing NN model"
   ]
  },
  {
   "cell_type": "code",
   "execution_count": 26,
   "metadata": {},
   "outputs": [],
   "source": [
    "def NNregression(X_train, X_test, y_train, y_test):\n",
    "    batch_size = 4\n",
    "    #initialize network with fixed output dim of 1\n",
    "    neural_network = NeuralNetwork(X_train.shape[1],1,lr=1e-3)\n",
    "\n",
    "    for index in range(0,X_train.shape[0],batch_size):\n",
    "\n",
    "        #get batch X and Y\n",
    "        batch_X=X_train[index:min(index+batch_size,X_train.shape[0]),:]\n",
    "        batch_Y=y_train[index:min(index+batch_size,y_train.shape[0])]\n",
    "\n",
    "        #train model with batch\n",
    "        neural_network.train(batch_X,batch_Y,500)\n",
    "    y_pred = neural_network.feedforward(X_train)[:,0]\n",
    "    pear = scipy.stats.pearsonr(y_train[:,0], y_pred)\n",
    "    print('Pearson\\'s r is {:6f}'.format(pear[0]))\n",
    "\n",
    "    mse = np.mean((y_train[:,0] - y_pred)**2)\n",
    "    print('MSE is {:6f}'.format(mse))\n",
    "\n",
    "\n",
    "    df = pd.DataFrame({'X_Axis': X_train[:, 1], 'y_train': y_train[:,0], 'y_pred':y_pred})\n",
    "    df = df.melt('X_Axis', var_name='cols',  value_name='vals')\n",
    "    plt.figure(figsize=(16, 10))\n",
    "    sns.scatterplot(x=\"X_Axis\", y=\"vals\", hue='cols', data=df)\n"
   ]
  },
  {
   "cell_type": "code",
   "execution_count": 27,
   "metadata": {},
   "outputs": [
    {
     "name": "stderr",
     "output_type": "stream",
     "text": [
      "C:\\ProgramData\\Anaconda3\\envs\\geo\\lib\\site-packages\\ipykernel_launcher.py:30: RuntimeWarning: invalid value encountered in add\n",
      "C:\\ProgramData\\Anaconda3\\envs\\geo\\lib\\site-packages\\ipykernel_launcher.py:31: RuntimeWarning: invalid value encountered in add\n"
     ]
    },
    {
     "ename": "ValueError",
     "evalue": "array must not contain infs or NaNs",
     "output_type": "error",
     "traceback": [
      "\u001b[1;31m---------------------------------------------------------------------------\u001b[0m",
      "\u001b[1;31mValueError\u001b[0m                                Traceback (most recent call last)",
      "\u001b[1;32m<ipython-input-27-6a2a6cae17bc>\u001b[0m in \u001b[0;36m<module>\u001b[1;34m\u001b[0m\n\u001b[1;32m----> 1\u001b[1;33m \u001b[0mNNregression\u001b[0m\u001b[1;33m(\u001b[0m\u001b[0mX_train\u001b[0m\u001b[1;33m,\u001b[0m \u001b[0mX_test\u001b[0m\u001b[1;33m,\u001b[0m \u001b[0my_train\u001b[0m\u001b[1;33m,\u001b[0m \u001b[0my_test\u001b[0m\u001b[1;33m)\u001b[0m\u001b[1;33m\u001b[0m\u001b[1;33m\u001b[0m\u001b[0m\n\u001b[0m",
      "\u001b[1;32m<ipython-input-26-719ed6bf3aec>\u001b[0m in \u001b[0;36mNNregression\u001b[1;34m(X_train, X_test, y_train, y_test)\u001b[0m\n\u001b[0;32m     13\u001b[0m         \u001b[0mneural_network\u001b[0m\u001b[1;33m.\u001b[0m\u001b[0mtrain\u001b[0m\u001b[1;33m(\u001b[0m\u001b[0mbatch_X\u001b[0m\u001b[1;33m,\u001b[0m\u001b[0mbatch_Y\u001b[0m\u001b[1;33m,\u001b[0m\u001b[1;36m500\u001b[0m\u001b[1;33m)\u001b[0m\u001b[1;33m\u001b[0m\u001b[1;33m\u001b[0m\u001b[0m\n\u001b[0;32m     14\u001b[0m     \u001b[0my_pred\u001b[0m \u001b[1;33m=\u001b[0m \u001b[0mneural_network\u001b[0m\u001b[1;33m.\u001b[0m\u001b[0mfeedforward\u001b[0m\u001b[1;33m(\u001b[0m\u001b[0mX_train\u001b[0m\u001b[1;33m)\u001b[0m\u001b[1;33m[\u001b[0m\u001b[1;33m:\u001b[0m\u001b[1;33m,\u001b[0m\u001b[1;36m0\u001b[0m\u001b[1;33m]\u001b[0m\u001b[1;33m\u001b[0m\u001b[1;33m\u001b[0m\u001b[0m\n\u001b[1;32m---> 15\u001b[1;33m     \u001b[0mpear\u001b[0m \u001b[1;33m=\u001b[0m \u001b[0mscipy\u001b[0m\u001b[1;33m.\u001b[0m\u001b[0mstats\u001b[0m\u001b[1;33m.\u001b[0m\u001b[0mpearsonr\u001b[0m\u001b[1;33m(\u001b[0m\u001b[0my_train\u001b[0m\u001b[1;33m[\u001b[0m\u001b[1;33m:\u001b[0m\u001b[1;33m,\u001b[0m\u001b[1;36m0\u001b[0m\u001b[1;33m]\u001b[0m\u001b[1;33m,\u001b[0m \u001b[0my_pred\u001b[0m\u001b[1;33m)\u001b[0m\u001b[1;33m\u001b[0m\u001b[1;33m\u001b[0m\u001b[0m\n\u001b[0m\u001b[0;32m     16\u001b[0m     \u001b[0mprint\u001b[0m\u001b[1;33m(\u001b[0m\u001b[1;34m'Pearson\\'s r is {:6f}'\u001b[0m\u001b[1;33m.\u001b[0m\u001b[0mformat\u001b[0m\u001b[1;33m(\u001b[0m\u001b[0mpear\u001b[0m\u001b[1;33m[\u001b[0m\u001b[1;36m0\u001b[0m\u001b[1;33m]\u001b[0m\u001b[1;33m)\u001b[0m\u001b[1;33m)\u001b[0m\u001b[1;33m\u001b[0m\u001b[1;33m\u001b[0m\u001b[0m\n\u001b[0;32m     17\u001b[0m \u001b[1;33m\u001b[0m\u001b[0m\n",
      "\u001b[1;32mC:\\ProgramData\\Anaconda3\\envs\\geo\\lib\\site-packages\\scipy\\stats\\stats.py\u001b[0m in \u001b[0;36mpearsonr\u001b[1;34m(x, y)\u001b[0m\n\u001b[0;32m   3420\u001b[0m     \u001b[1;31m# [-5e210, 5e210, 3e200, -3e200]\u001b[0m\u001b[1;33m\u001b[0m\u001b[1;33m\u001b[0m\u001b[1;33m\u001b[0m\u001b[0m\n\u001b[0;32m   3421\u001b[0m     \u001b[0mnormxm\u001b[0m \u001b[1;33m=\u001b[0m \u001b[0mlinalg\u001b[0m\u001b[1;33m.\u001b[0m\u001b[0mnorm\u001b[0m\u001b[1;33m(\u001b[0m\u001b[0mxm\u001b[0m\u001b[1;33m)\u001b[0m\u001b[1;33m\u001b[0m\u001b[1;33m\u001b[0m\u001b[0m\n\u001b[1;32m-> 3422\u001b[1;33m     \u001b[0mnormym\u001b[0m \u001b[1;33m=\u001b[0m \u001b[0mlinalg\u001b[0m\u001b[1;33m.\u001b[0m\u001b[0mnorm\u001b[0m\u001b[1;33m(\u001b[0m\u001b[0mym\u001b[0m\u001b[1;33m)\u001b[0m\u001b[1;33m\u001b[0m\u001b[1;33m\u001b[0m\u001b[0m\n\u001b[0m\u001b[0;32m   3423\u001b[0m \u001b[1;33m\u001b[0m\u001b[0m\n\u001b[0;32m   3424\u001b[0m     \u001b[0mthreshold\u001b[0m \u001b[1;33m=\u001b[0m \u001b[1;36m1e-13\u001b[0m\u001b[1;33m\u001b[0m\u001b[1;33m\u001b[0m\u001b[0m\n",
      "\u001b[1;32mC:\\ProgramData\\Anaconda3\\envs\\geo\\lib\\site-packages\\scipy\\linalg\\misc.py\u001b[0m in \u001b[0;36mnorm\u001b[1;34m(a, ord, axis, keepdims)\u001b[0m\n\u001b[0;32m    135\u001b[0m     \"\"\"\n\u001b[0;32m    136\u001b[0m     \u001b[1;31m# Differs from numpy only in non-finite handling and the use of blas.\u001b[0m\u001b[1;33m\u001b[0m\u001b[1;33m\u001b[0m\u001b[1;33m\u001b[0m\u001b[0m\n\u001b[1;32m--> 137\u001b[1;33m     \u001b[0ma\u001b[0m \u001b[1;33m=\u001b[0m \u001b[0mnp\u001b[0m\u001b[1;33m.\u001b[0m\u001b[0masarray_chkfinite\u001b[0m\u001b[1;33m(\u001b[0m\u001b[0ma\u001b[0m\u001b[1;33m)\u001b[0m\u001b[1;33m\u001b[0m\u001b[1;33m\u001b[0m\u001b[0m\n\u001b[0m\u001b[0;32m    138\u001b[0m \u001b[1;33m\u001b[0m\u001b[0m\n\u001b[0;32m    139\u001b[0m     \u001b[1;31m# Only use optimized norms if axis and keepdims are not specified.\u001b[0m\u001b[1;33m\u001b[0m\u001b[1;33m\u001b[0m\u001b[1;33m\u001b[0m\u001b[0m\n",
      "\u001b[1;32mC:\\ProgramData\\Anaconda3\\envs\\geo\\lib\\site-packages\\numpy\\lib\\function_base.py\u001b[0m in \u001b[0;36masarray_chkfinite\u001b[1;34m(a, dtype, order)\u001b[0m\n\u001b[0;32m    496\u001b[0m     \u001b[1;32mif\u001b[0m \u001b[0ma\u001b[0m\u001b[1;33m.\u001b[0m\u001b[0mdtype\u001b[0m\u001b[1;33m.\u001b[0m\u001b[0mchar\u001b[0m \u001b[1;32min\u001b[0m \u001b[0mtypecodes\u001b[0m\u001b[1;33m[\u001b[0m\u001b[1;34m'AllFloat'\u001b[0m\u001b[1;33m]\u001b[0m \u001b[1;32mand\u001b[0m \u001b[1;32mnot\u001b[0m \u001b[0mnp\u001b[0m\u001b[1;33m.\u001b[0m\u001b[0misfinite\u001b[0m\u001b[1;33m(\u001b[0m\u001b[0ma\u001b[0m\u001b[1;33m)\u001b[0m\u001b[1;33m.\u001b[0m\u001b[0mall\u001b[0m\u001b[1;33m(\u001b[0m\u001b[1;33m)\u001b[0m\u001b[1;33m:\u001b[0m\u001b[1;33m\u001b[0m\u001b[1;33m\u001b[0m\u001b[0m\n\u001b[0;32m    497\u001b[0m         raise ValueError(\n\u001b[1;32m--> 498\u001b[1;33m             \"array must not contain infs or NaNs\")\n\u001b[0m\u001b[0;32m    499\u001b[0m     \u001b[1;32mreturn\u001b[0m \u001b[0ma\u001b[0m\u001b[1;33m\u001b[0m\u001b[1;33m\u001b[0m\u001b[0m\n\u001b[0;32m    500\u001b[0m \u001b[1;33m\u001b[0m\u001b[0m\n",
      "\u001b[1;31mValueError\u001b[0m: array must not contain infs or NaNs"
     ]
    }
   ],
   "source": [
    "NNregression(X_train, X_test, y_train, y_test)"
   ]
  },
  {
   "cell_type": "code",
   "execution_count": 35,
   "metadata": {},
   "outputs": [],
   "source": [
    "#legacy code\n",
    "#prototyping code\n",
    "\n",
    "# batch_size = 4\n",
    "\n",
    "# #initialize network with fixed output dim of 1\n",
    "# neural_network = NeuralNetwork(X_train.shape[1],1,lr=1e-3)\n",
    "\n",
    "# for index in range(0,X_train.shape[0],batch_size):\n",
    "    \n",
    "    \n",
    "#     #get batch X and Y\n",
    "#     batch_X=X_train[index:min(index+batch_size,X_train.shape[0]),:]\n",
    "#     batch_Y=y_train[index:min(index+batch_size,y_train.shape[0])]\n",
    "    \n",
    "#     #train model with batch\n",
    "#     neural_network.train(batch_X,batch_Y,500)\n",
    "    \n",
    "#     #print final state of weights\n",
    "#     neural_network.print_w()\n",
    "\n",
    "#     # Test the neural network with new test data. \n",
    "#     #get predicted y\n",
    "#     y_pred = neural_network.test(X_test)\n",
    "#     #compare predicted y and groundtruth \n",
    "# #     print('predicted data ----------->')\n",
    "# #     print(y_pred)\n",
    "# #     print('real data ---------------->')\n",
    "# #     print(y_test)\n",
    "#     #calculate MSE\n",
    "#     mse = np.mean((y_test - y_pred)**2)\n",
    "#     print('MSE on test data --------->')\n",
    "#     print(mse)"
   ]
  },
  {
   "cell_type": "code",
   "execution_count": null,
   "metadata": {},
   "outputs": [],
   "source": []
  }
 ],
 "metadata": {
  "kernelspec": {
   "display_name": "Python 3",
   "language": "python",
   "name": "python3"
  },
  "language_info": {
   "codemirror_mode": {
    "name": "ipython",
    "version": 3
   },
   "file_extension": ".py",
   "mimetype": "text/x-python",
   "name": "python",
   "nbconvert_exporter": "python",
   "pygments_lexer": "ipython3",
   "version": "3.7.5"
  }
 },
 "nbformat": 4,
 "nbformat_minor": 4
}
