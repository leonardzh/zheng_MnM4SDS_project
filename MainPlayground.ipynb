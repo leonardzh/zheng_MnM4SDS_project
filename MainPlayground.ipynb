{
 "cells": [
  {
   "cell_type": "markdown",
   "metadata": {},
   "source": [
    "# Main playground for exploration of NN SI model\n",
    "\n",
    "**Author: Zheng Liu**"
   ]
  },
  {
   "cell_type": "markdown",
   "metadata": {},
   "source": [
    "## Introduction\n",
    "\n",
    "We are interested in how neural network can help to predict real spatial interaction data.\n",
    "This notebook aims to provide step-by-step experiments to compare parametric statistic models (OLS/GLM) and non-parametric statistic models (Neural Networks).\n",
    "\n",
    "In the first part, we prepare data from simulationin order to validate and examine model and real world SI data which will be used at the end in different models especially NN SI models to evaluate performances.\n",
    "\n",
    "Next part will compare results using OLS/GLM/NN with the dataset you pick. Before getting NN results, implementation of my simple neural network is explicitly given."
   ]
  },
  {
   "cell_type": "code",
   "execution_count": 1,
   "metadata": {},
   "outputs": [],
   "source": [
    "import numpy as np\n",
    "from sklearn.model_selection import train_test_split\n",
    "import statsmodels.formula.api as smf # high-level stats\n",
    "import statsmodels.api as sm\n",
    "import matplotlib.pyplot as plt\n",
    "import scipy\n",
    "import seaborn as sns\n",
    "import pandas as pd\n",
    "%matplotlib inline"
   ]
  },
  {
   "cell_type": "markdown",
   "metadata": {},
   "source": [
    "## Data preparation\n",
    "\n",
    "Following datasets can be loaded by calling functions below:\n",
    "\n",
    "\n",
    "1. Multiplicative simulation: to simulate SI model data with known parameters\n",
    "2. Integer Multiplicative simulationL to simulate more real SI model data with known parameters\n",
    "3. Real world Austria migration: A toy dataset with 72 entries used in Taylor (2016) and Fischer (2001)\n",
    "3. Real world NYC taxi snippet: Larger dataset with tract-level interactions (1000 entries)"
   ]
  },
  {
   "cell_type": "markdown",
   "metadata": {},
   "source": [
    "### 1. Multiplicative simulation"
   ]
  },
  {
   "cell_type": "code",
   "execution_count": 4,
   "metadata": {},
   "outputs": [],
   "source": [
    "#make non-linear dataset\n",
    "def loadDatasetNonlnMp(row=1000,error=10):\n",
    "    b0 = 1\n",
    "\n",
    "    Oi = np.random.rand(row,1)\n",
    "    Dj = np.random.randint(row,1)\n",
    "    dij = np.random.rand(row,1)+1.0001\n",
    "    X = np.hstack((Oi,Dj,dij))\n",
    "    Xe = error*np.random.rand(row,1)\n",
    "    Y = b0*Oi*Dj/dij + Xe\n",
    "    return (X,Y)"
   ]
  },
  {
   "cell_type": "code",
   "execution_count": 5,
   "metadata": {},
   "outputs": [],
   "source": [
    "#make non-linear dataset\n",
    "def loadDatasetLogMp(row=1000,error=10):\n",
    "    b0 = 1\n",
    "    b1 = 1\n",
    "    b2 = 1\n",
    "    b3 = -1\n",
    "    Oi = np.random.rand(row,1)\n",
    "    Dj = np.random.randint(row,1)\n",
    "    dij = np.random.rand(row,1)+1.0001\n",
    "    X = np.hstack((Oi,Dj,dij))\n",
    "\n",
    "    Xe = error*np.random.rand(row,1)\n",
    "    Y = np.exp(b0+ b1*np.log(Oi) + b2*np.log(Dj) + b3*np.log(dij) + Xe)\n",
    "    return (X,Y)"
   ]
  },
  {
   "cell_type": "markdown",
   "metadata": {},
   "source": [
    "### 2. Integer Multiplicative simulation"
   ]
  },
  {
   "cell_type": "code",
   "execution_count": 6,
   "metadata": {},
   "outputs": [],
   "source": [
    "#make non-linear dataset\n",
    "def loadDatasetNonlnMpInt(row=1000,error=10):\n",
    "    b0 = 1\n",
    "\n",
    "    Oi = np.random.randint(1,100,size=(row,1))\n",
    "    Dj = np.random.randint(1,100,size=(row,1))\n",
    "    dij = 100 * np.random.rand(row,1)+100.0001\n",
    "    X = np.hstack((Oi,Dj,dij))\n",
    "    Xe = error*np.random.rand(row,1)\n",
    "    Y = np.rint(b0*Oi*Dj/dij + Xe)\n",
    "    return (X,Y)"
   ]
  },
  {
   "cell_type": "code",
   "execution_count": 7,
   "metadata": {},
   "outputs": [],
   "source": [
    "#make non-linear dataset\n",
    "def loadDatasetLogMpInt(row=1000,error=10):\n",
    "    b0 = 1\n",
    "    b1 = 1\n",
    "    b2 = 1\n",
    "    b3 = -1\n",
    "    Oi = np.random.randint(1,100,size=(row,1))\n",
    "    Dj = np.random.randint(1,100,size=(row,1))\n",
    "    dij = 100 * np.random.rand(row,1)+100.0001\n",
    "    X = np.hstack((Oi,Dj,dij))\n",
    "\n",
    "    Xe = error*np.random.rand(row,1)\n",
    "    Y = np.rint(np.exp(b0+ b1*np.log(Oi) + b2*np.log(Dj) + b3*np.log(dij) + Xe))\n",
    "    return (X,Y)"
   ]
  },
  {
   "cell_type": "markdown",
   "metadata": {},
   "source": [
    "### 3. Real world Austria migration"
   ]
  },
  {
   "cell_type": "code",
   "execution_count": 8,
   "metadata": {},
   "outputs": [],
   "source": [
    "def loadDatasetAustria():\n",
    "    X = np.load('data/austria_in.npy')\n",
    "    Y = np.load('data/austria_out.npy')\n",
    "    return (X,Y)"
   ]
  },
  {
   "cell_type": "markdown",
   "metadata": {},
   "source": [
    "### 4. Real world NYC taxi snippet"
   ]
  },
  {
   "cell_type": "code",
   "execution_count": 45,
   "metadata": {},
   "outputs": [],
   "source": [
    "def loadDatasetTaxiSnippet():\n",
    "    X = np.load('data/simple_taxi_X.npy')\n",
    "    Y = np.load('data/simple_taxi_Y.npy')\n",
    "    return (X,Y)"
   ]
  },
  {
   "cell_type": "code",
   "execution_count": 46,
   "metadata": {},
   "outputs": [],
   "source": [
    "def loadDatasetTaxiSnippetScale():\n",
    "    X = np.load('data/simple_taxi_X.npy')\n",
    "    Y = np.load('data/simple_taxi_Y.npy')\n",
    "    X[:,2] = X[:,2]/100\n",
    "    X = X / 100\n",
    "    Y = Y / 100\n",
    "    return (X,Y)"
   ]
  },
  {
   "cell_type": "markdown",
   "metadata": {},
   "source": [
    "### Load dataset of your choice"
   ]
  },
  {
   "cell_type": "code",
   "execution_count": 47,
   "metadata": {},
   "outputs": [
    {
     "data": {
      "text/plain": [
       "array([[0.28],\n",
       "       [0.37],\n",
       "       [0.22],\n",
       "       [0.15],\n",
       "       [0.77],\n",
       "       [0.26],\n",
       "       [1.47],\n",
       "       [0.47],\n",
       "       [0.27],\n",
       "       [0.29]])"
      ]
     },
     "execution_count": 47,
     "metadata": {},
     "output_type": "execute_result"
    }
   ],
   "source": [
    "dataopt = '4.2'\n",
    "\n",
    "if(dataopt == '1.1'):\n",
    "    X,Y = loadDatasetNonlnMp()\n",
    "elif(dataopt == '1.2'):\n",
    "    X,Y = loadDatasetLogMp()\n",
    "elif(dataopt == '2.1'):\n",
    "    X,Y = loadDatasetNonlnMpInt()\n",
    "elif(dataopt == '2.2'):\n",
    "    X,Y = loadDatasetLogMpInt()\n",
    "elif(dataopt == '3'):\n",
    "    X,Y = loadDatasetAustria()\n",
    "elif(dataopt == '4.1'):\n",
    "    X,Y = loadDatasetTaxiSnippet()\n",
    "elif(dataopt == '4.2'):\n",
    "    X,Y = loadDatasetTaxiSnippetScale()\n",
    "X_train, X_test, y_train, y_test = train_test_split(X, Y, test_size=0.2, random_state=42)\n",
    "y_train[:10,:]"
   ]
  },
  {
   "cell_type": "markdown",
   "metadata": {},
   "source": [
    "## Compare results\n",
    "Following functions of OLSregression/GLMregression/NNregression will give a **scatterplot, MSE, pearson's R**, of known test data y values vs predicted y values using known X values"
   ]
  },
  {
   "cell_type": "markdown",
   "metadata": {},
   "source": [
    "### Ordinary Least Square\n",
    "using package **statsmodels**"
   ]
  },
  {
   "cell_type": "code",
   "execution_count": 37,
   "metadata": {},
   "outputs": [],
   "source": [
    "def OLSregression(X_train,y_train,X_test,y_test):\n",
    "    X_train_log = sm.add_constant(np.log(X_train))\n",
    "    X_test_log = sm.add_constant(np.log(X_test))\n",
    "    y_train_log = np.log(y_train)\n",
    "    model = sm.OLS(y_train_log,X_train_log)\n",
    "    results = model.fit()\n",
    "    print(results.summary())\n",
    "    y_pred = np.exp(results.predict(X_test_log))\n",
    "    pear = scipy.stats.pearsonr(y_test[:,0], y_pred)\n",
    "    print('Pearson\\'s r is {:6f}'.format(pear[0]))\n",
    "    mse = np.mean((y_test[:,0] - y_pred)**2)\n",
    "    print('MSE is {:6f}'.format(mse))\n",
    "\n",
    "    df = pd.DataFrame({'X_Axis': X_test[:, 1], 'y_test': y_test[:,0], 'y_pred':y_pred})\n",
    "    df_m = df.melt('X_Axis', var_name='cols',  value_name='vals')\n",
    "    plt.figure(figsize=(16, 10))\n",
    "    sns.scatterplot(x=\"y_test\", y=\"y_pred\", data=df)\n",
    "    return df\n",
    "    "
   ]
  },
  {
   "cell_type": "code",
   "execution_count": 38,
   "metadata": {},
   "outputs": [
    {
     "name": "stdout",
     "output_type": "stream",
     "text": [
      "                            OLS Regression Results                            \n",
      "==============================================================================\n",
      "Dep. Variable:                      y   R-squared:                       0.403\n",
      "Model:                            OLS   Adj. R-squared:                  0.401\n",
      "Method:                 Least Squares   F-statistic:                     179.4\n",
      "Date:                Mon, 09 Dec 2019   Prob (F-statistic):           7.85e-89\n",
      "Time:                        15:09:11   Log-Likelihood:                -783.93\n",
      "No. Observations:                 800   AIC:                             1576.\n",
      "Df Residuals:                     796   BIC:                             1595.\n",
      "Df Model:                           3                                         \n",
      "Covariance Type:            nonrobust                                         \n",
      "==============================================================================\n",
      "                 coef    std err          t      P>|t|      [0.025      0.975]\n",
      "------------------------------------------------------------------------------\n",
      "const         -1.4867      0.058    -25.821      0.000      -1.600      -1.374\n",
      "x1             1.3476      0.070     19.370      0.000       1.211       1.484\n",
      "x2             0.6311      0.082      7.653      0.000       0.469       0.793\n",
      "x3            -0.5746      0.035    -16.295      0.000      -0.644      -0.505\n",
      "==============================================================================\n",
      "Omnibus:                       20.723   Durbin-Watson:                   1.981\n",
      "Prob(Omnibus):                  0.000   Jarque-Bera (JB):               22.301\n",
      "Skew:                          -0.358   Prob(JB):                     1.44e-05\n",
      "Kurtosis:                       3.395   Cond. No.                         5.39\n",
      "==============================================================================\n",
      "\n",
      "Warnings:\n",
      "[1] Standard Errors assume that the covariance matrix of the errors is correctly specified.\n",
      "Pearson's r is 0.610867\n",
      "MSE is 0.017993\n"
     ]
    },
    {
     "data": {
      "text/html": [
       "<div>\n",
       "<style scoped>\n",
       "    .dataframe tbody tr th:only-of-type {\n",
       "        vertical-align: middle;\n",
       "    }\n",
       "\n",
       "    .dataframe tbody tr th {\n",
       "        vertical-align: top;\n",
       "    }\n",
       "\n",
       "    .dataframe thead th {\n",
       "        text-align: right;\n",
       "    }\n",
       "</style>\n",
       "<table border=\"1\" class=\"dataframe\">\n",
       "  <thead>\n",
       "    <tr style=\"text-align: right;\">\n",
       "      <th></th>\n",
       "      <th>X_Axis</th>\n",
       "      <th>y_test</th>\n",
       "      <th>y_pred</th>\n",
       "    </tr>\n",
       "  </thead>\n",
       "  <tbody>\n",
       "    <tr>\n",
       "      <th>0</th>\n",
       "      <td>0.68</td>\n",
       "      <td>0.43</td>\n",
       "      <td>0.211145</td>\n",
       "    </tr>\n",
       "    <tr>\n",
       "      <th>1</th>\n",
       "      <td>0.59</td>\n",
       "      <td>0.31</td>\n",
       "      <td>0.168307</td>\n",
       "    </tr>\n",
       "    <tr>\n",
       "      <th>2</th>\n",
       "      <td>0.51</td>\n",
       "      <td>0.53</td>\n",
       "      <td>0.380775</td>\n",
       "    </tr>\n",
       "    <tr>\n",
       "      <th>3</th>\n",
       "      <td>0.47</td>\n",
       "      <td>0.09</td>\n",
       "      <td>0.197478</td>\n",
       "    </tr>\n",
       "    <tr>\n",
       "      <th>4</th>\n",
       "      <td>0.60</td>\n",
       "      <td>0.23</td>\n",
       "      <td>0.139162</td>\n",
       "    </tr>\n",
       "    <tr>\n",
       "      <th>...</th>\n",
       "      <td>...</td>\n",
       "      <td>...</td>\n",
       "      <td>...</td>\n",
       "    </tr>\n",
       "    <tr>\n",
       "      <th>195</th>\n",
       "      <td>0.49</td>\n",
       "      <td>0.03</td>\n",
       "      <td>0.200660</td>\n",
       "    </tr>\n",
       "    <tr>\n",
       "      <th>196</th>\n",
       "      <td>0.53</td>\n",
       "      <td>0.18</td>\n",
       "      <td>0.204488</td>\n",
       "    </tr>\n",
       "    <tr>\n",
       "      <th>197</th>\n",
       "      <td>0.45</td>\n",
       "      <td>0.09</td>\n",
       "      <td>0.193553</td>\n",
       "    </tr>\n",
       "    <tr>\n",
       "      <th>198</th>\n",
       "      <td>0.53</td>\n",
       "      <td>0.11</td>\n",
       "      <td>0.211559</td>\n",
       "    </tr>\n",
       "    <tr>\n",
       "      <th>199</th>\n",
       "      <td>0.52</td>\n",
       "      <td>0.04</td>\n",
       "      <td>0.148169</td>\n",
       "    </tr>\n",
       "  </tbody>\n",
       "</table>\n",
       "<p>200 rows × 3 columns</p>\n",
       "</div>"
      ],
      "text/plain": [
       "     X_Axis  y_test    y_pred\n",
       "0      0.68    0.43  0.211145\n",
       "1      0.59    0.31  0.168307\n",
       "2      0.51    0.53  0.380775\n",
       "3      0.47    0.09  0.197478\n",
       "4      0.60    0.23  0.139162\n",
       "..      ...     ...       ...\n",
       "195    0.49    0.03  0.200660\n",
       "196    0.53    0.18  0.204488\n",
       "197    0.45    0.09  0.193553\n",
       "198    0.53    0.11  0.211559\n",
       "199    0.52    0.04  0.148169\n",
       "\n",
       "[200 rows x 3 columns]"
      ]
     },
     "execution_count": 38,
     "metadata": {},
     "output_type": "execute_result"
    },
    {
     "data": {
      "image/png": "[encoded data removed]",
      "text/plain": [
       "<Figure size 1152x720 with 1 Axes>"
      ]
     },
     "metadata": {
      "needs_background": "light"
     },
     "output_type": "display_data"
    }
   ],
   "source": [
    "OLSregression(X_train,y_train,X_test,y_test)"
   ]
  },
  {
   "cell_type": "markdown",
   "metadata": {},
   "source": [
    "### Generalized Linear Models\n",
    "using package **statsmodels**, current support family of *Poisson*."
   ]
  },
  {
   "cell_type": "code",
   "execution_count": 39,
   "metadata": {},
   "outputs": [],
   "source": [
    "def GLMregression(X_train,y_train,X_test,y_test,family='Poisson'):\n",
    "    if family == 'Poisson':\n",
    "        X_train = sm.add_constant(np.log(X_train))\n",
    "        X_test = sm.add_constant(np.log(X_test))\n",
    "        model = sm.GLM(y_train, X_train, family=sm.families.Poisson())\n",
    "        results = model.fit()\n",
    "        print(results.summary())\n",
    "\n",
    "        y_pred = results.predict(X_test,transform=False)\n",
    "        pear = scipy.stats.pearsonr(y_test[:,0], y_pred)\n",
    "        print('Pearson\\'s r is {:6f}'.format(pear[0]))\n",
    "        \n",
    "        mse = np.mean((y_test[:,0] - y_pred)**2)\n",
    "        print('MSE is {:6f}'.format(mse))\n",
    "        \n",
    "        \n",
    "        df = pd.DataFrame({'X_Axis': X_test[:, 1], 'y_test': y_test[:,0], 'y_pred':y_pred})\n",
    "\n",
    "        df_m = df.melt('X_Axis', var_name='cols',  value_name='vals')\n",
    "        plt.figure(figsize=(16, 10))\n",
    "        sns.scatterplot(x=\"y_test\", y=\"y_pred\", data=df)\n",
    "        return df\n",
    "    elif family == 'Gaussian':\n",
    "        X_train = sm.add_constant(np.log(X_train))\n",
    "        X_test = sm.add_constant(np.log(X_test))\n",
    "        model = sm.GLM(y_train, X_train, family=sm.families.Gaussian())\n",
    "        results = model.fit()\n",
    "        print(results.summary())\n",
    "\n",
    "        y_pred = results.predict(X_test,transform=False)\n",
    "        pear = scipy.stats.pearsonr(y_test[:,0], y_pred)\n",
    "        print('Pearson\\'s r is {:6f}'.format(pear[0]))\n",
    "        \n",
    "        mse = np.mean((y_test[:,0] - y_pred)**2)\n",
    "        print('MSE is {:6f}'.format(mse))\n",
    "        \n",
    "        \n",
    "        df = pd.DataFrame({'X_Axis': X_test[:, 1], 'y_test': y_test[:,0], 'y_pred':y_pred})\n",
    "\n",
    "        df_m = df.melt('X_Axis', var_name='cols',  value_name='vals')\n",
    "        plt.figure(figsize=(16, 10))\n",
    "        sns.scatterplot(x=\"y_test\", y=\"y_pred\", data=df)\n",
    "        return df\n",
    "    else:\n",
    "        return -1"
   ]
  },
  {
   "cell_type": "code",
   "execution_count": 40,
   "metadata": {},
   "outputs": [
    {
     "name": "stdout",
     "output_type": "stream",
     "text": [
      "                 Generalized Linear Model Regression Results                  \n",
      "==============================================================================\n",
      "Dep. Variable:                      y   No. Observations:                  800\n",
      "Model:                            GLM   Df Residuals:                      796\n",
      "Model Family:                 Poisson   Df Model:                            3\n",
      "Link Function:                    log   Scale:                          1.0000\n",
      "Method:                          IRLS   Log-Likelihood:                -394.34\n",
      "Date:                Mon, 09 Dec 2019   Deviance:                       67.164\n",
      "Time:                        15:09:16   Pearson chi2:                     78.8\n",
      "No. Iterations:                     5                                         \n",
      "Covariance Type:            nonrobust                                         \n",
      "==============================================================================\n",
      "                 coef    std err          z      P>|z|      [0.025      0.975]\n",
      "------------------------------------------------------------------------------\n",
      "const         -1.0395      0.289     -3.593      0.000      -1.606      -0.472\n",
      "x1             1.6713      0.334      5.000      0.000       1.016       2.326\n",
      "x2             1.0740      0.475      2.261      0.024       0.143       2.005\n",
      "x3            -0.5351      0.105     -5.096      0.000      -0.741      -0.329\n",
      "==============================================================================\n",
      "Pearson's r is 0.647272\n",
      "MSE is 0.017085\n"
     ]
    },
    {
     "data": {
      "text/html": [
       "<div>\n",
       "<style scoped>\n",
       "    .dataframe tbody tr th:only-of-type {\n",
       "        vertical-align: middle;\n",
       "    }\n",
       "\n",
       "    .dataframe tbody tr th {\n",
       "        vertical-align: top;\n",
       "    }\n",
       "\n",
       "    .dataframe thead th {\n",
       "        text-align: right;\n",
       "    }\n",
       "</style>\n",
       "<table border=\"1\" class=\"dataframe\">\n",
       "  <thead>\n",
       "    <tr style=\"text-align: right;\">\n",
       "      <th></th>\n",
       "      <th>X_Axis</th>\n",
       "      <th>y_test</th>\n",
       "      <th>y_pred</th>\n",
       "    </tr>\n",
       "  </thead>\n",
       "  <tbody>\n",
       "    <tr>\n",
       "      <th>0</th>\n",
       "      <td>0.182322</td>\n",
       "      <td>0.43</td>\n",
       "      <td>0.296739</td>\n",
       "    </tr>\n",
       "    <tr>\n",
       "      <th>1</th>\n",
       "      <td>0.292670</td>\n",
       "      <td>0.31</td>\n",
       "      <td>0.234767</td>\n",
       "    </tr>\n",
       "    <tr>\n",
       "      <th>2</th>\n",
       "      <td>0.292670</td>\n",
       "      <td>0.53</td>\n",
       "      <td>0.467794</td>\n",
       "    </tr>\n",
       "    <tr>\n",
       "      <th>3</th>\n",
       "      <td>0.122218</td>\n",
       "      <td>0.09</td>\n",
       "      <td>0.227215</td>\n",
       "    </tr>\n",
       "    <tr>\n",
       "      <th>4</th>\n",
       "      <td>0.019803</td>\n",
       "      <td>0.23</td>\n",
       "      <td>0.176987</td>\n",
       "    </tr>\n",
       "    <tr>\n",
       "      <th>...</th>\n",
       "      <td>...</td>\n",
       "      <td>...</td>\n",
       "      <td>...</td>\n",
       "    </tr>\n",
       "    <tr>\n",
       "      <th>195</th>\n",
       "      <td>0.019803</td>\n",
       "      <td>0.03</td>\n",
       "      <td>0.225519</td>\n",
       "    </tr>\n",
       "    <tr>\n",
       "      <th>196</th>\n",
       "      <td>-0.261365</td>\n",
       "      <td>0.18</td>\n",
       "      <td>0.212107</td>\n",
       "    </tr>\n",
       "    <tr>\n",
       "      <th>197</th>\n",
       "      <td>0.095310</td>\n",
       "      <td>0.09</td>\n",
       "      <td>0.215908</td>\n",
       "    </tr>\n",
       "    <tr>\n",
       "      <th>198</th>\n",
       "      <td>0.165514</td>\n",
       "      <td>0.11</td>\n",
       "      <td>0.261515</td>\n",
       "    </tr>\n",
       "    <tr>\n",
       "      <th>199</th>\n",
       "      <td>-0.248461</td>\n",
       "      <td>0.04</td>\n",
       "      <td>0.156522</td>\n",
       "    </tr>\n",
       "  </tbody>\n",
       "</table>\n",
       "<p>200 rows × 3 columns</p>\n",
       "</div>"
      ],
      "text/plain": [
       "       X_Axis  y_test    y_pred\n",
       "0    0.182322    0.43  0.296739\n",
       "1    0.292670    0.31  0.234767\n",
       "2    0.292670    0.53  0.467794\n",
       "3    0.122218    0.09  0.227215\n",
       "4    0.019803    0.23  0.176987\n",
       "..        ...     ...       ...\n",
       "195  0.019803    0.03  0.225519\n",
       "196 -0.261365    0.18  0.212107\n",
       "197  0.095310    0.09  0.215908\n",
       "198  0.165514    0.11  0.261515\n",
       "199 -0.248461    0.04  0.156522\n",
       "\n",
       "[200 rows x 3 columns]"
      ]
     },
     "execution_count": 40,
     "metadata": {},
     "output_type": "execute_result"
    },
    {
     "data": {
      "image/png": "[encoded data removed]",
      "text/plain": [
       "<Figure size 1152x720 with 1 Axes>"
      ]
     },
     "metadata": {
      "needs_background": "light"
     },
     "output_type": "display_data"
    }
   ],
   "source": [
    "GLMregression(X_train,y_train,X_test,y_test,family='Poisson')"
   ]
  },
  {
   "cell_type": "markdown",
   "metadata": {},
   "source": [
    "### simple Neural Network models\n",
    "Multi-layer preceptron (MLP) with one hidden layer. Below shows available activation functions including **sigmoid, tanh, ReLU, affine**. "
   ]
  },
  {
   "cell_type": "code",
   "execution_count": 41,
   "metadata": {},
   "outputs": [],
   "source": [
    "#activation functions and their gradient functions\n",
    "def sigmoid(X):\n",
    "    return 1/(1+np.exp(-X))\n",
    "\n",
    "def sigmoid_grad(X):\n",
    "    return sigmoid(X) * (1 - sigmoid(X))\n",
    "\n",
    "def tanh(z):\n",
    "    return np.tanh(z)\n",
    "\n",
    "def tanh_grad(z):\n",
    "     return 1 - np.tanh(z) ** 2\n",
    "\n",
    "def ReLU(z):\n",
    "    return np.clip(z, 0, np.inf)\n",
    "\n",
    "def ReLU_grad(z):\n",
    "    return (z > 0).astype(int)\n",
    "\n",
    "def affine(X,slope=1,intercept=0):\n",
    "     return slope * X + intercept\n",
    "    \n",
    "def affine_grad(X,slope=1,intercept=0):\n",
    "    return slope * np.ones_like(X)"
   ]
  },
  {
   "cell_type": "markdown",
   "metadata": {},
   "source": [
    "#### define neural network model\n",
    "\n",
    "Construct neural network by using numpy only so that user is able to monitor the changing of weights during training. "
   ]
  },
  {
   "cell_type": "code",
   "execution_count": 42,
   "metadata": {},
   "outputs": [],
   "source": [
    "\n",
    "class NeuralNetwork:\n",
    "    def __init__(self, input_dim, output_dim=1,hidden_dim = 4,lr=0.005,\n",
    "                 act1 = sigmoid,\n",
    "                 act2 = affine,\n",
    "                 grad1 = sigmoid_grad,\n",
    "                 grad2 = affine_grad):\n",
    "        #init weights\n",
    "        self.weights1   = np.random.rand(input_dim+1,hidden_dim) \n",
    "        self.weights2   = np.random.rand(hidden_dim,output_dim)                 \n",
    "        #set learning rate\n",
    "        self.lr         = lr\n",
    "        self.activation1 = act1\n",
    "        self.activation2 = act2\n",
    "        self.grad1 = grad1\n",
    "        self.grad2 = grad2\n",
    "      \n",
    "    def print_w(self):\n",
    "        '''print weight to inspect the current values of network'''  \n",
    "        print('print_weights ------------>')\n",
    "        print(self.weights1)\n",
    "        print(self.weights2)\n",
    "        \n",
    "    def feedforward(self,X):\n",
    "        X = np.hstack((X,np.ones((X.shape[0],1))))\n",
    "        self.layer1 = self.activation1(np.dot(X, self.weights1))\n",
    "        self.output = self.activation2(np.dot(self.layer1, self.weights2))\n",
    "        return self.output\n",
    "    def backprop(self,X, Y):\n",
    "        X = np.hstack((X,np.ones((X.shape[0],1))))\n",
    "        # application of the chain rule to find derivative of the loss function with respect to weights2 and weights1\n",
    "        d_weights2 = np.dot(self.layer1.T, (2*(Y - self.output) * affine_grad(np.dot(self.layer1, self.weights2))))\n",
    "        d_weights1 = np.dot(X.T,  \\\n",
    "                            (np.dot(2*(Y - self.output) * self.grad2(np.dot(self.layer1, self.weights2)), self.weights2.T)\\\n",
    "                             * self.grad1(np.dot(X, self.weights1))))\n",
    "\n",
    "        # update the weights with the derivative (slope) of the loss function multiply learning rate\n",
    "        self.weights1 += d_weights1*self.lr\n",
    "        self.weights2 += d_weights2*self.lr\n",
    "    \n",
    "    def test(self,X):\n",
    "        '''get predicted values for any input data'''\n",
    "        X = np.hstack((X,np.ones((X.shape[0],1))))\n",
    "        hidden_layer1 = self.activation1(np.dot(X, self.weights1))\n",
    "        return self.activation2(np.dot(hidden_layer1, self.weights2))\n",
    "        \n",
    "    def train(self,X,Y,epoch):\n",
    "        '''train model with X and Y for num_train_iterations times'''\n",
    "        #print('training  ---------------->')\n",
    "        for iteration in range(epoch): \n",
    "            self.feedforward(X) \n",
    "            self.backprop(X,Y)\n",
    "            #print interim MSE\n",
    "#             if iteration % 100 == 0:\n",
    "#                 mse = np.mean((self.output - Y)**2)\n",
    "#                 print(\"Epoch \", iteration, \"MSE: \", mse)\n",
    "                "
   ]
  },
  {
   "cell_type": "markdown",
   "metadata": {},
   "source": [
    "#### Training and testing NN model\n",
    "\n",
    "Extra options can be **Batch size, epoch**"
   ]
  },
  {
   "cell_type": "code",
   "execution_count": 43,
   "metadata": {},
   "outputs": [],
   "source": [
    "def NNregression(X_train, X_test, y_train, y_test,\n",
    "                 batch_size = 4,\n",
    "                 epoch = 500\n",
    "                ):\n",
    "\n",
    "    #initialize network with fixed output dim of 1\n",
    "    neural_network = NeuralNetwork(X_train.shape[1],1,lr=1e-2)\n",
    "\n",
    "    for index in range(0,X_train.shape[0],batch_size):\n",
    "\n",
    "        #get batch X and Y\n",
    "        batch_X=X_train[index:min(index+batch_size,X_train.shape[0]),:]\n",
    "        batch_Y=y_train[index:min(index+batch_size,y_train.shape[0])]\n",
    "\n",
    "        #train model with batch\n",
    "        neural_network.train(batch_X,batch_Y,epoch)\n",
    "    y_pred = neural_network.feedforward(X_test)[:,0]\n",
    "    pear = scipy.stats.pearsonr(y_test[:,0], y_pred)\n",
    "\n",
    "    print('Pearson\\'s r is {:6f}'.format(pear[0]))\n",
    "\n",
    "    mse = np.mean((y_test[:,0] - y_pred)**2)\n",
    "    print('MSE is {:6f}'.format(mse))\n",
    "\n",
    "\n",
    "    df = pd.DataFrame({'X_Axis': X_test[:, 0], 'y_test': y_test[:,0], 'y_pred':y_pred})\n",
    "\n",
    "    df_m = df.melt('X_Axis', var_name='cols',  value_name='vals')\n",
    "    plt.figure(figsize=(16, 10))\n",
    "    sns.scatterplot(x=\"y_test\", y=\"y_pred\", data=df)\n",
    "    return df"
   ]
  },
  {
   "cell_type": "code",
   "execution_count": 44,
   "metadata": {},
   "outputs": [
    {
     "name": "stdout",
     "output_type": "stream",
     "text": [
      "Pearson's r is 0.667358\n",
      "MSE is 0.019225\n"
     ]
    },
    {
     "data": {
      "text/html": [
       "<div>\n",
       "<style scoped>\n",
       "    .dataframe tbody tr th:only-of-type {\n",
       "        vertical-align: middle;\n",
       "    }\n",
       "\n",
       "    .dataframe tbody tr th {\n",
       "        vertical-align: top;\n",
       "    }\n",
       "\n",
       "    .dataframe thead th {\n",
       "        text-align: right;\n",
       "    }\n",
       "</style>\n",
       "<table border=\"1\" class=\"dataframe\">\n",
       "  <thead>\n",
       "    <tr style=\"text-align: right;\">\n",
       "      <th></th>\n",
       "      <th>X_Axis</th>\n",
       "      <th>y_test</th>\n",
       "      <th>y_pred</th>\n",
       "    </tr>\n",
       "  </thead>\n",
       "  <tbody>\n",
       "    <tr>\n",
       "      <th>0</th>\n",
       "      <td>1.20</td>\n",
       "      <td>0.43</td>\n",
       "      <td>0.243172</td>\n",
       "    </tr>\n",
       "    <tr>\n",
       "      <th>1</th>\n",
       "      <td>1.34</td>\n",
       "      <td>0.31</td>\n",
       "      <td>0.074755</td>\n",
       "    </tr>\n",
       "    <tr>\n",
       "      <th>2</th>\n",
       "      <td>1.34</td>\n",
       "      <td>0.53</td>\n",
       "      <td>0.483145</td>\n",
       "    </tr>\n",
       "    <tr>\n",
       "      <th>3</th>\n",
       "      <td>1.13</td>\n",
       "      <td>0.09</td>\n",
       "      <td>0.145794</td>\n",
       "    </tr>\n",
       "    <tr>\n",
       "      <th>4</th>\n",
       "      <td>1.02</td>\n",
       "      <td>0.23</td>\n",
       "      <td>0.080558</td>\n",
       "    </tr>\n",
       "    <tr>\n",
       "      <th>...</th>\n",
       "      <td>...</td>\n",
       "      <td>...</td>\n",
       "      <td>...</td>\n",
       "    </tr>\n",
       "    <tr>\n",
       "      <th>195</th>\n",
       "      <td>1.02</td>\n",
       "      <td>0.03</td>\n",
       "      <td>0.159912</td>\n",
       "    </tr>\n",
       "    <tr>\n",
       "      <th>196</th>\n",
       "      <td>0.77</td>\n",
       "      <td>0.18</td>\n",
       "      <td>0.170245</td>\n",
       "    </tr>\n",
       "    <tr>\n",
       "      <th>197</th>\n",
       "      <td>1.10</td>\n",
       "      <td>0.09</td>\n",
       "      <td>0.127106</td>\n",
       "    </tr>\n",
       "    <tr>\n",
       "      <th>198</th>\n",
       "      <td>1.18</td>\n",
       "      <td>0.11</td>\n",
       "      <td>0.201306</td>\n",
       "    </tr>\n",
       "    <tr>\n",
       "      <th>199</th>\n",
       "      <td>0.78</td>\n",
       "      <td>0.04</td>\n",
       "      <td>0.095104</td>\n",
       "    </tr>\n",
       "  </tbody>\n",
       "</table>\n",
       "<p>200 rows × 3 columns</p>\n",
       "</div>"
      ],
      "text/plain": [
       "     X_Axis  y_test    y_pred\n",
       "0      1.20    0.43  0.243172\n",
       "1      1.34    0.31  0.074755\n",
       "2      1.34    0.53  0.483145\n",
       "3      1.13    0.09  0.145794\n",
       "4      1.02    0.23  0.080558\n",
       "..      ...     ...       ...\n",
       "195    1.02    0.03  0.159912\n",
       "196    0.77    0.18  0.170245\n",
       "197    1.10    0.09  0.127106\n",
       "198    1.18    0.11  0.201306\n",
       "199    0.78    0.04  0.095104\n",
       "\n",
       "[200 rows x 3 columns]"
      ]
     },
     "execution_count": 44,
     "metadata": {},
     "output_type": "execute_result"
    },
    {
     "data": {
      "image/png": "[encoded data removed]",
      "text/plain": [
       "<Figure size 1152x720 with 1 Axes>"
      ]
     },
     "metadata": {
      "needs_background": "light"
     },
     "output_type": "display_data"
    }
   ],
   "source": [
    "NNregression(X_train, X_test, y_train, y_test)"
   ]
  },
  {
   "cell_type": "code",
   "execution_count": 35,
   "metadata": {},
   "outputs": [],
   "source": [
    "#legacy code\n",
    "#prototyping code\n",
    "\n",
    "# batch_size = 4\n",
    "\n",
    "# #initialize network with fixed output dim of 1\n",
    "# neural_network = NeuralNetwork(X_train.shape[1],1,lr=1e-3)\n",
    "\n",
    "# for index in range(0,X_train.shape[0],batch_size):\n",
    "    \n",
    "    \n",
    "#     #get batch X and Y\n",
    "#     batch_X=X_train[index:min(index+batch_size,X_train.shape[0]),:]\n",
    "#     batch_Y=y_train[index:min(index+batch_size,y_train.shape[0])]\n",
    "    \n",
    "#     #train model with batch\n",
    "#     neural_network.train(batch_X,batch_Y,500)\n",
    "    \n",
    "#     #print final state of weights\n",
    "#     neural_network.print_w()\n",
    "\n",
    "#     # Test the neural network with new test data. \n",
    "#     #get predicted y\n",
    "#     y_pred = neural_network.test(X_test)\n",
    "#     #compare predicted y and groundtruth \n",
    "# #     print('predicted data ----------->')\n",
    "# #     print(y_pred)\n",
    "# #     print('real data ---------------->')\n",
    "# #     print(y_test)\n",
    "#     #calculate MSE\n",
    "#     mse = np.mean((y_test - y_pred)**2)\n",
    "#     print('MSE on test data --------->')\n",
    "#     print(mse)"
   ]
  },
  {
   "cell_type": "code",
   "execution_count": null,
   "metadata": {},
   "outputs": [],
   "source": [
    "\n",
    "# integer\n",
    "\n",
    "# probability matrix by divide sum see paper\n"
   ]
  }
 ],
 "metadata": {
  "kernelspec": {
   "display_name": "Python 3",
   "language": "python",
   "name": "python3"
  },
  "language_info": {
   "codemirror_mode": {
    "name": "ipython",
    "version": 3
   },
   "file_extension": ".py",
   "mimetype": "text/x-python",
   "name": "python",
   "nbconvert_exporter": "python",
   "pygments_lexer": "ipython3",
   "version": "3.7.5"
  }
 },
 "nbformat": 4,
 "nbformat_minor": 4
}
