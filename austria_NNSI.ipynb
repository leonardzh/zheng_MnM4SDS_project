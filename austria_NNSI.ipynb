{
 "cells": [
  {
   "cell_type": "markdown",
   "metadata": {},
   "source": [
    "# Austria dataset exploration"
   ]
  },
  {
   "cell_type": "code",
   "execution_count": 3,
   "metadata": {},
   "outputs": [],
   "source": [
    "#import libraries\n",
    "# This ensures visualizations are plotted inside the notebook\n",
    "%matplotlib inline\n",
    "import io\n",
    "import os              # This provides several system utilities\n",
    "import pandas as pd    \n",
    "import seaborn as sns \n",
    "import numpy as np\n",
    "import geopandas as gpd\n",
    "from shapely.geometry import Point\n",
    "import matplotlib\n",
    "import matplotlib.pyplot as plt \n",
    "from cenpy import products\n",
    "import cenpy\n",
    "import scipy.stats  as stats # low-level stats & probability\n",
    "import statsmodels.formula.api as smf # high-level stats\n",
    "import requests\n",
    "from sklearn.model_selection import train_test_split\n",
    "from sklearn.model_selection import KFold\n",
    "import statsmodels.api as sm"
   ]
  },
  {
   "cell_type": "code",
   "execution_count": 38,
   "metadata": {},
   "outputs": [],
   "source": [
    "#reproduce paper data\n",
    "def saveDatasetAustria():\n",
    "    austria = pd.read_csv('data/AT_Austria.csv')\n",
    "    austria = austria[austria['Origin']!=austria['Destination']]\n",
    "    flows = austria['Data'].values\n",
    "    Oi = austria['Oi'].values\n",
    "    Dj = austria['Dj'].values\n",
    "    Dij = austria['Dij'].values\n",
    "    Origin = austria['Origin'].values\n",
    "    Destination = austria['Destination'].values\n",
    "    input_features = np.vstack((Oi,Dj,Dij))\n",
    "    X=input_features.T\n",
    "    y=flows.reshape(-1,1)\n",
    "    np.save('data/austria_in',X)\n",
    "    np.save('data/austria_out',y)"
   ]
  },
  {
   "cell_type": "code",
   "execution_count": 39,
   "metadata": {},
   "outputs": [],
   "source": [
    "saveDatasetAustria()"
   ]
  },
  {
   "cell_type": "code",
   "execution_count": 40,
   "metadata": {},
   "outputs": [],
   "source": [
    "def loadDatasetAustria():\n",
    "    X = np.load('data/austria_in.npy')\n",
    "    Y = np.load('data/austria_out.npy')\n",
    "    return (X,Y)"
   ]
  },
  {
   "cell_type": "code",
   "execution_count": 12,
   "metadata": {},
   "outputs": [],
   "source": [
    "from spint.gravity import Gravity\n",
    "from spint.gravity import Production\n",
    "from spint.gravity import Attraction\n",
    "from spint.gravity import Doubly"
   ]
  },
  {
   "cell_type": "code",
   "execution_count": 15,
   "metadata": {},
   "outputs": [],
   "source": [
    "gravity = Gravity(flows,Oi,Dj,Dij,'exp')"
   ]
  },
  {
   "cell_type": "code",
   "execution_count": 17,
   "metadata": {},
   "outputs": [
    {
     "name": "stdout",
     "output_type": "stream",
     "text": [
      "[-8.01822841e+00  8.69316127e-01  8.91445153e-01 -6.22938370e-03]\n"
     ]
    }
   ],
   "source": [
    "print(gravity.params)"
   ]
  },
  {
   "cell_type": "code",
   "execution_count": 18,
   "metadata": {},
   "outputs": [
    {
     "data": {
      "text/plain": [
       "array([103.001845,  84.204666, 220.811933, 132.00748 , 214.511814,\n",
       "       246.933305, 390.85611 , 505.089539, 103.001845,  45.796272,\n",
       "       216.994739, 129.878172, 140.706671, 201.232355, 343.50075 ,\n",
       "       453.515594,  84.204666,  45.796272, 249.932874, 158.630661,\n",
       "       186.420738, 244.108305, 387.61776 , 498.407152, 220.811933,\n",
       "       216.994739, 249.932874,  92.407958, 151.777157,  92.894408,\n",
       "       194.851669, 306.105825, 132.00748 , 129.878172, 158.630661,\n",
       "        92.407958, 124.563096, 122.433524, 261.893783, 376.34667 ,\n",
       "       214.511814, 140.706671, 186.420738, 151.777157, 124.563096,\n",
       "        81.753652, 208.456383, 314.793199, 246.933305, 201.232355,\n",
       "       244.108305,  92.894408, 122.433524,  81.753652, 145.076472,\n",
       "       258.591197, 390.85611 , 343.50075 , 387.61776 , 194.851669,\n",
       "       261.893783, 208.456383, 145.076472, 114.46325 , 505.089539,\n",
       "       453.515594, 498.407152, 306.105825, 376.34667 , 314.793199,\n",
       "       258.591197, 114.46325 ])"
      ]
     },
     "execution_count": 18,
     "metadata": {},
     "output_type": "execute_result"
    }
   ],
   "source": []
  },
  {
   "cell_type": "code",
   "execution_count": 19,
   "metadata": {},
   "outputs": [
    {
     "data": {
      "text/plain": [
       "numpy.ndarray"
      ]
     },
     "execution_count": 19,
     "metadata": {},
     "output_type": "execute_result"
    }
   ],
   "source": [
    "type(Oi)"
   ]
  }
 ],
 "metadata": {
  "kernelspec": {
   "display_name": "Python 3",
   "language": "python",
   "name": "python3"
  },
  "language_info": {
   "codemirror_mode": {
    "name": "ipython",
    "version": 3
   },
   "file_extension": ".py",
   "mimetype": "text/x-python",
   "name": "python",
   "nbconvert_exporter": "python",
   "pygments_lexer": "ipython3",
   "version": "3.7.5"
  }
 },
 "nbformat": 4,
 "nbformat_minor": 4
}
